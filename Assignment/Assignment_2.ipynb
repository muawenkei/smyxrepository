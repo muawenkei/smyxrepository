{
  "nbformat": 4,
  "nbformat_minor": 0,
  "metadata": {
    "colab": {
      "name": "Assignment_2.ipynb",
      "provenance": [],
      "collapsed_sections": [],
      "toc_visible": true,
      "machine_shape": "hm",
      "include_colab_link": true
    },
    "kernelspec": {
      "name": "python3",
      "display_name": "Python 3"
    },
    "accelerator": "GPU",
    "widgets": {
      "application/vnd.jupyter.widget-state+json": {
        "2dc7e4fa27714de78cb7d6037e430264": {
          "model_module": "@jupyter-widgets/controls",
          "model_name": "HBoxModel",
          "state": {
            "_view_name": "HBoxView",
            "_dom_classes": [],
            "_model_name": "HBoxModel",
            "_view_module": "@jupyter-widgets/controls",
            "_model_module_version": "1.5.0",
            "_view_count": null,
            "_view_module_version": "1.5.0",
            "box_style": "",
            "layout": "IPY_MODEL_578268e5c0144909a29997d41ef71fbf",
            "_model_module": "@jupyter-widgets/controls",
            "children": [
              "IPY_MODEL_8b52567ec59746c1b35a91126a3b5e15",
              "IPY_MODEL_34cdec1e62c043178ee81dadf61411c6"
            ]
          }
        },
        "578268e5c0144909a29997d41ef71fbf": {
          "model_module": "@jupyter-widgets/base",
          "model_name": "LayoutModel",
          "state": {
            "_view_name": "LayoutView",
            "grid_template_rows": null,
            "right": null,
            "justify_content": null,
            "_view_module": "@jupyter-widgets/base",
            "overflow": null,
            "_model_module_version": "1.2.0",
            "_view_count": null,
            "flex_flow": null,
            "width": null,
            "min_width": null,
            "border": null,
            "align_items": null,
            "bottom": null,
            "_model_module": "@jupyter-widgets/base",
            "top": null,
            "grid_column": null,
            "overflow_y": null,
            "overflow_x": null,
            "grid_auto_flow": null,
            "grid_area": null,
            "grid_template_columns": null,
            "flex": null,
            "_model_name": "LayoutModel",
            "justify_items": null,
            "grid_row": null,
            "max_height": null,
            "align_content": null,
            "visibility": null,
            "align_self": null,
            "height": null,
            "min_height": null,
            "padding": null,
            "grid_auto_rows": null,
            "grid_gap": null,
            "max_width": null,
            "order": null,
            "_view_module_version": "1.2.0",
            "grid_template_areas": null,
            "object_position": null,
            "object_fit": null,
            "grid_auto_columns": null,
            "margin": null,
            "display": null,
            "left": null
          }
        },
        "8b52567ec59746c1b35a91126a3b5e15": {
          "model_module": "@jupyter-widgets/controls",
          "model_name": "FloatProgressModel",
          "state": {
            "_view_name": "ProgressView",
            "style": "IPY_MODEL_c2cc684ba7dd4e4c83845b5cb28bb5e9",
            "_dom_classes": [],
            "description": "Downloading: 100%",
            "_model_name": "FloatProgressModel",
            "bar_style": "success",
            "max": 798011,
            "_view_module": "@jupyter-widgets/controls",
            "_model_module_version": "1.5.0",
            "value": 798011,
            "_view_count": null,
            "_view_module_version": "1.5.0",
            "orientation": "horizontal",
            "min": 0,
            "description_tooltip": null,
            "_model_module": "@jupyter-widgets/controls",
            "layout": "IPY_MODEL_d138ff25cb6c4631a59c745e189236ee"
          }
        },
        "34cdec1e62c043178ee81dadf61411c6": {
          "model_module": "@jupyter-widgets/controls",
          "model_name": "HTMLModel",
          "state": {
            "_view_name": "HTMLView",
            "style": "IPY_MODEL_fe296fadde374b518977c7033820cf65",
            "_dom_classes": [],
            "description": "",
            "_model_name": "HTMLModel",
            "placeholder": "​",
            "_view_module": "@jupyter-widgets/controls",
            "_model_module_version": "1.5.0",
            "value": " 798k/798k [00:22&lt;00:00, 35.9kB/s]",
            "_view_count": null,
            "_view_module_version": "1.5.0",
            "description_tooltip": null,
            "_model_module": "@jupyter-widgets/controls",
            "layout": "IPY_MODEL_25514533e3ac41a2ba7688d7110d5d7d"
          }
        },
        "c2cc684ba7dd4e4c83845b5cb28bb5e9": {
          "model_module": "@jupyter-widgets/controls",
          "model_name": "ProgressStyleModel",
          "state": {
            "_view_name": "StyleView",
            "_model_name": "ProgressStyleModel",
            "description_width": "initial",
            "_view_module": "@jupyter-widgets/base",
            "_model_module_version": "1.5.0",
            "_view_count": null,
            "_view_module_version": "1.2.0",
            "bar_color": null,
            "_model_module": "@jupyter-widgets/controls"
          }
        },
        "d138ff25cb6c4631a59c745e189236ee": {
          "model_module": "@jupyter-widgets/base",
          "model_name": "LayoutModel",
          "state": {
            "_view_name": "LayoutView",
            "grid_template_rows": null,
            "right": null,
            "justify_content": null,
            "_view_module": "@jupyter-widgets/base",
            "overflow": null,
            "_model_module_version": "1.2.0",
            "_view_count": null,
            "flex_flow": null,
            "width": null,
            "min_width": null,
            "border": null,
            "align_items": null,
            "bottom": null,
            "_model_module": "@jupyter-widgets/base",
            "top": null,
            "grid_column": null,
            "overflow_y": null,
            "overflow_x": null,
            "grid_auto_flow": null,
            "grid_area": null,
            "grid_template_columns": null,
            "flex": null,
            "_model_name": "LayoutModel",
            "justify_items": null,
            "grid_row": null,
            "max_height": null,
            "align_content": null,
            "visibility": null,
            "align_self": null,
            "height": null,
            "min_height": null,
            "padding": null,
            "grid_auto_rows": null,
            "grid_gap": null,
            "max_width": null,
            "order": null,
            "_view_module_version": "1.2.0",
            "grid_template_areas": null,
            "object_position": null,
            "object_fit": null,
            "grid_auto_columns": null,
            "margin": null,
            "display": null,
            "left": null
          }
        },
        "fe296fadde374b518977c7033820cf65": {
          "model_module": "@jupyter-widgets/controls",
          "model_name": "DescriptionStyleModel",
          "state": {
            "_view_name": "StyleView",
            "_model_name": "DescriptionStyleModel",
            "description_width": "",
            "_view_module": "@jupyter-widgets/base",
            "_model_module_version": "1.5.0",
            "_view_count": null,
            "_view_module_version": "1.2.0",
            "_model_module": "@jupyter-widgets/controls"
          }
        },
        "25514533e3ac41a2ba7688d7110d5d7d": {
          "model_module": "@jupyter-widgets/base",
          "model_name": "LayoutModel",
          "state": {
            "_view_name": "LayoutView",
            "grid_template_rows": null,
            "right": null,
            "justify_content": null,
            "_view_module": "@jupyter-widgets/base",
            "overflow": null,
            "_model_module_version": "1.2.0",
            "_view_count": null,
            "flex_flow": null,
            "width": null,
            "min_width": null,
            "border": null,
            "align_items": null,
            "bottom": null,
            "_model_module": "@jupyter-widgets/base",
            "top": null,
            "grid_column": null,
            "overflow_y": null,
            "overflow_x": null,
            "grid_auto_flow": null,
            "grid_area": null,
            "grid_template_columns": null,
            "flex": null,
            "_model_name": "LayoutModel",
            "justify_items": null,
            "grid_row": null,
            "max_height": null,
            "align_content": null,
            "visibility": null,
            "align_self": null,
            "height": null,
            "min_height": null,
            "padding": null,
            "grid_auto_rows": null,
            "grid_gap": null,
            "max_width": null,
            "order": null,
            "_view_module_version": "1.2.0",
            "grid_template_areas": null,
            "object_position": null,
            "object_fit": null,
            "grid_auto_columns": null,
            "margin": null,
            "display": null,
            "left": null
          }
        },
        "c60b0b1df509466e8bae2848ca3fbf48": {
          "model_module": "@jupyter-widgets/controls",
          "model_name": "HBoxModel",
          "state": {
            "_view_name": "HBoxView",
            "_dom_classes": [],
            "_model_name": "HBoxModel",
            "_view_module": "@jupyter-widgets/controls",
            "_model_module_version": "1.5.0",
            "_view_count": null,
            "_view_module_version": "1.5.0",
            "box_style": "",
            "layout": "IPY_MODEL_c080b60456f04d2aa9808b0d626ff312",
            "_model_module": "@jupyter-widgets/controls",
            "children": [
              "IPY_MODEL_4be8794f6994497e91353396ffd009e7",
              "IPY_MODEL_6cd90f1c02a2435c8dd2ebb1e30b2bd4"
            ]
          }
        },
        "c080b60456f04d2aa9808b0d626ff312": {
          "model_module": "@jupyter-widgets/base",
          "model_name": "LayoutModel",
          "state": {
            "_view_name": "LayoutView",
            "grid_template_rows": null,
            "right": null,
            "justify_content": null,
            "_view_module": "@jupyter-widgets/base",
            "overflow": null,
            "_model_module_version": "1.2.0",
            "_view_count": null,
            "flex_flow": null,
            "width": null,
            "min_width": null,
            "border": null,
            "align_items": null,
            "bottom": null,
            "_model_module": "@jupyter-widgets/base",
            "top": null,
            "grid_column": null,
            "overflow_y": null,
            "overflow_x": null,
            "grid_auto_flow": null,
            "grid_area": null,
            "grid_template_columns": null,
            "flex": null,
            "_model_name": "LayoutModel",
            "justify_items": null,
            "grid_row": null,
            "max_height": null,
            "align_content": null,
            "visibility": null,
            "align_self": null,
            "height": null,
            "min_height": null,
            "padding": null,
            "grid_auto_rows": null,
            "grid_gap": null,
            "max_width": null,
            "order": null,
            "_view_module_version": "1.2.0",
            "grid_template_areas": null,
            "object_position": null,
            "object_fit": null,
            "grid_auto_columns": null,
            "margin": null,
            "display": null,
            "left": null
          }
        },
        "4be8794f6994497e91353396ffd009e7": {
          "model_module": "@jupyter-widgets/controls",
          "model_name": "FloatProgressModel",
          "state": {
            "_view_name": "ProgressView",
            "style": "IPY_MODEL_abc0dc265a4a42dc8aea16231812f9ac",
            "_dom_classes": [],
            "description": "Downloading: 100%",
            "_model_name": "FloatProgressModel",
            "bar_style": "success",
            "max": 1382015,
            "_view_module": "@jupyter-widgets/controls",
            "_model_module_version": "1.5.0",
            "value": 1382015,
            "_view_count": null,
            "_view_module_version": "1.5.0",
            "orientation": "horizontal",
            "min": 0,
            "description_tooltip": null,
            "_model_module": "@jupyter-widgets/controls",
            "layout": "IPY_MODEL_3ca406d838774be6827258a00b49f165"
          }
        },
        "6cd90f1c02a2435c8dd2ebb1e30b2bd4": {
          "model_module": "@jupyter-widgets/controls",
          "model_name": "HTMLModel",
          "state": {
            "_view_name": "HTMLView",
            "style": "IPY_MODEL_8de65eb664a040e28b364d2e11f9d22c",
            "_dom_classes": [],
            "description": "",
            "_model_name": "HTMLModel",
            "placeholder": "​",
            "_view_module": "@jupyter-widgets/controls",
            "_model_module_version": "1.5.0",
            "value": " 1.38M/1.38M [00:00&lt;00:00, 5.24MB/s]",
            "_view_count": null,
            "_view_module_version": "1.5.0",
            "description_tooltip": null,
            "_model_module": "@jupyter-widgets/controls",
            "layout": "IPY_MODEL_45024e137e8540e48731d0183f8a9a02"
          }
        },
        "abc0dc265a4a42dc8aea16231812f9ac": {
          "model_module": "@jupyter-widgets/controls",
          "model_name": "ProgressStyleModel",
          "state": {
            "_view_name": "StyleView",
            "_model_name": "ProgressStyleModel",
            "description_width": "initial",
            "_view_module": "@jupyter-widgets/base",
            "_model_module_version": "1.5.0",
            "_view_count": null,
            "_view_module_version": "1.2.0",
            "bar_color": null,
            "_model_module": "@jupyter-widgets/controls"
          }
        },
        "3ca406d838774be6827258a00b49f165": {
          "model_module": "@jupyter-widgets/base",
          "model_name": "LayoutModel",
          "state": {
            "_view_name": "LayoutView",
            "grid_template_rows": null,
            "right": null,
            "justify_content": null,
            "_view_module": "@jupyter-widgets/base",
            "overflow": null,
            "_model_module_version": "1.2.0",
            "_view_count": null,
            "flex_flow": null,
            "width": null,
            "min_width": null,
            "border": null,
            "align_items": null,
            "bottom": null,
            "_model_module": "@jupyter-widgets/base",
            "top": null,
            "grid_column": null,
            "overflow_y": null,
            "overflow_x": null,
            "grid_auto_flow": null,
            "grid_area": null,
            "grid_template_columns": null,
            "flex": null,
            "_model_name": "LayoutModel",
            "justify_items": null,
            "grid_row": null,
            "max_height": null,
            "align_content": null,
            "visibility": null,
            "align_self": null,
            "height": null,
            "min_height": null,
            "padding": null,
            "grid_auto_rows": null,
            "grid_gap": null,
            "max_width": null,
            "order": null,
            "_view_module_version": "1.2.0",
            "grid_template_areas": null,
            "object_position": null,
            "object_fit": null,
            "grid_auto_columns": null,
            "margin": null,
            "display": null,
            "left": null
          }
        },
        "8de65eb664a040e28b364d2e11f9d22c": {
          "model_module": "@jupyter-widgets/controls",
          "model_name": "DescriptionStyleModel",
          "state": {
            "_view_name": "StyleView",
            "_model_name": "DescriptionStyleModel",
            "description_width": "",
            "_view_module": "@jupyter-widgets/base",
            "_model_module_version": "1.5.0",
            "_view_count": null,
            "_view_module_version": "1.2.0",
            "_model_module": "@jupyter-widgets/controls"
          }
        },
        "45024e137e8540e48731d0183f8a9a02": {
          "model_module": "@jupyter-widgets/base",
          "model_name": "LayoutModel",
          "state": {
            "_view_name": "LayoutView",
            "grid_template_rows": null,
            "right": null,
            "justify_content": null,
            "_view_module": "@jupyter-widgets/base",
            "overflow": null,
            "_model_module_version": "1.2.0",
            "_view_count": null,
            "flex_flow": null,
            "width": null,
            "min_width": null,
            "border": null,
            "align_items": null,
            "bottom": null,
            "_model_module": "@jupyter-widgets/base",
            "top": null,
            "grid_column": null,
            "overflow_y": null,
            "overflow_x": null,
            "grid_auto_flow": null,
            "grid_area": null,
            "grid_template_columns": null,
            "flex": null,
            "_model_name": "LayoutModel",
            "justify_items": null,
            "grid_row": null,
            "max_height": null,
            "align_content": null,
            "visibility": null,
            "align_self": null,
            "height": null,
            "min_height": null,
            "padding": null,
            "grid_auto_rows": null,
            "grid_gap": null,
            "max_width": null,
            "order": null,
            "_view_module_version": "1.2.0",
            "grid_template_areas": null,
            "object_position": null,
            "object_fit": null,
            "grid_auto_columns": null,
            "margin": null,
            "display": null,
            "left": null
          }
        },
        "200d1df3460c4b589959a133f879bf06": {
          "model_module": "@jupyter-widgets/controls",
          "model_name": "HBoxModel",
          "state": {
            "_view_name": "HBoxView",
            "_dom_classes": [],
            "_model_name": "HBoxModel",
            "_view_module": "@jupyter-widgets/controls",
            "_model_module_version": "1.5.0",
            "_view_count": null,
            "_view_module_version": "1.5.0",
            "box_style": "",
            "layout": "IPY_MODEL_89bf722a574c45ed9da423cf58f29614",
            "_model_module": "@jupyter-widgets/controls",
            "children": [
              "IPY_MODEL_938d8de23e3f44c499e036089ff7ac42",
              "IPY_MODEL_629e1c6e3f144a8cad0d4254f4222978"
            ]
          }
        },
        "89bf722a574c45ed9da423cf58f29614": {
          "model_module": "@jupyter-widgets/base",
          "model_name": "LayoutModel",
          "state": {
            "_view_name": "LayoutView",
            "grid_template_rows": null,
            "right": null,
            "justify_content": null,
            "_view_module": "@jupyter-widgets/base",
            "overflow": null,
            "_model_module_version": "1.2.0",
            "_view_count": null,
            "flex_flow": null,
            "width": null,
            "min_width": null,
            "border": null,
            "align_items": null,
            "bottom": null,
            "_model_module": "@jupyter-widgets/base",
            "top": null,
            "grid_column": null,
            "overflow_y": null,
            "overflow_x": null,
            "grid_auto_flow": null,
            "grid_area": null,
            "grid_template_columns": null,
            "flex": null,
            "_model_name": "LayoutModel",
            "justify_items": null,
            "grid_row": null,
            "max_height": null,
            "align_content": null,
            "visibility": null,
            "align_self": null,
            "height": null,
            "min_height": null,
            "padding": null,
            "grid_auto_rows": null,
            "grid_gap": null,
            "max_width": null,
            "order": null,
            "_view_module_version": "1.2.0",
            "grid_template_areas": null,
            "object_position": null,
            "object_fit": null,
            "grid_auto_columns": null,
            "margin": null,
            "display": null,
            "left": null
          }
        },
        "938d8de23e3f44c499e036089ff7ac42": {
          "model_module": "@jupyter-widgets/controls",
          "model_name": "FloatProgressModel",
          "state": {
            "_view_name": "ProgressView",
            "style": "IPY_MODEL_131299be8e85476cb2f811ba0629aa2b",
            "_dom_classes": [],
            "description": "Downloading: 100%",
            "_model_name": "FloatProgressModel",
            "bar_style": "success",
            "max": 760,
            "_view_module": "@jupyter-widgets/controls",
            "_model_module_version": "1.5.0",
            "value": 760,
            "_view_count": null,
            "_view_module_version": "1.5.0",
            "orientation": "horizontal",
            "min": 0,
            "description_tooltip": null,
            "_model_module": "@jupyter-widgets/controls",
            "layout": "IPY_MODEL_2bbe7ce0250a4289850e1baafe3403fe"
          }
        },
        "629e1c6e3f144a8cad0d4254f4222978": {
          "model_module": "@jupyter-widgets/controls",
          "model_name": "HTMLModel",
          "state": {
            "_view_name": "HTMLView",
            "style": "IPY_MODEL_0e4ccbec650c4379a58b3c70032311c7",
            "_dom_classes": [],
            "description": "",
            "_model_name": "HTMLModel",
            "placeholder": "​",
            "_view_module": "@jupyter-widgets/controls",
            "_model_module_version": "1.5.0",
            "value": " 760/760 [00:00&lt;00:00, 9.18kB/s]",
            "_view_count": null,
            "_view_module_version": "1.5.0",
            "description_tooltip": null,
            "_model_module": "@jupyter-widgets/controls",
            "layout": "IPY_MODEL_48341d9159914d8795b4403b3b23b0ac"
          }
        },
        "131299be8e85476cb2f811ba0629aa2b": {
          "model_module": "@jupyter-widgets/controls",
          "model_name": "ProgressStyleModel",
          "state": {
            "_view_name": "StyleView",
            "_model_name": "ProgressStyleModel",
            "description_width": "initial",
            "_view_module": "@jupyter-widgets/base",
            "_model_module_version": "1.5.0",
            "_view_count": null,
            "_view_module_version": "1.2.0",
            "bar_color": null,
            "_model_module": "@jupyter-widgets/controls"
          }
        },
        "2bbe7ce0250a4289850e1baafe3403fe": {
          "model_module": "@jupyter-widgets/base",
          "model_name": "LayoutModel",
          "state": {
            "_view_name": "LayoutView",
            "grid_template_rows": null,
            "right": null,
            "justify_content": null,
            "_view_module": "@jupyter-widgets/base",
            "overflow": null,
            "_model_module_version": "1.2.0",
            "_view_count": null,
            "flex_flow": null,
            "width": null,
            "min_width": null,
            "border": null,
            "align_items": null,
            "bottom": null,
            "_model_module": "@jupyter-widgets/base",
            "top": null,
            "grid_column": null,
            "overflow_y": null,
            "overflow_x": null,
            "grid_auto_flow": null,
            "grid_area": null,
            "grid_template_columns": null,
            "flex": null,
            "_model_name": "LayoutModel",
            "justify_items": null,
            "grid_row": null,
            "max_height": null,
            "align_content": null,
            "visibility": null,
            "align_self": null,
            "height": null,
            "min_height": null,
            "padding": null,
            "grid_auto_rows": null,
            "grid_gap": null,
            "max_width": null,
            "order": null,
            "_view_module_version": "1.2.0",
            "grid_template_areas": null,
            "object_position": null,
            "object_fit": null,
            "grid_auto_columns": null,
            "margin": null,
            "display": null,
            "left": null
          }
        },
        "0e4ccbec650c4379a58b3c70032311c7": {
          "model_module": "@jupyter-widgets/controls",
          "model_name": "DescriptionStyleModel",
          "state": {
            "_view_name": "StyleView",
            "_model_name": "DescriptionStyleModel",
            "description_width": "",
            "_view_module": "@jupyter-widgets/base",
            "_model_module_version": "1.5.0",
            "_view_count": null,
            "_view_module_version": "1.2.0",
            "_model_module": "@jupyter-widgets/controls"
          }
        },
        "48341d9159914d8795b4403b3b23b0ac": {
          "model_module": "@jupyter-widgets/base",
          "model_name": "LayoutModel",
          "state": {
            "_view_name": "LayoutView",
            "grid_template_rows": null,
            "right": null,
            "justify_content": null,
            "_view_module": "@jupyter-widgets/base",
            "overflow": null,
            "_model_module_version": "1.2.0",
            "_view_count": null,
            "flex_flow": null,
            "width": null,
            "min_width": null,
            "border": null,
            "align_items": null,
            "bottom": null,
            "_model_module": "@jupyter-widgets/base",
            "top": null,
            "grid_column": null,
            "overflow_y": null,
            "overflow_x": null,
            "grid_auto_flow": null,
            "grid_area": null,
            "grid_template_columns": null,
            "flex": null,
            "_model_name": "LayoutModel",
            "justify_items": null,
            "grid_row": null,
            "max_height": null,
            "align_content": null,
            "visibility": null,
            "align_self": null,
            "height": null,
            "min_height": null,
            "padding": null,
            "grid_auto_rows": null,
            "grid_gap": null,
            "max_width": null,
            "order": null,
            "_view_module_version": "1.2.0",
            "grid_template_areas": null,
            "object_position": null,
            "object_fit": null,
            "grid_auto_columns": null,
            "margin": null,
            "display": null,
            "left": null
          }
        },
        "075f06b2abf24d818a0f8fcb8f30d655": {
          "model_module": "@jupyter-widgets/controls",
          "model_name": "HBoxModel",
          "state": {
            "_view_name": "HBoxView",
            "_dom_classes": [],
            "_model_name": "HBoxModel",
            "_view_module": "@jupyter-widgets/controls",
            "_model_module_version": "1.5.0",
            "_view_count": null,
            "_view_module_version": "1.5.0",
            "box_style": "",
            "layout": "IPY_MODEL_143d1e6a5494413eb7d5fa25cd85ab17",
            "_model_module": "@jupyter-widgets/controls",
            "children": [
              "IPY_MODEL_df55fc9b8abd492292271f3cf9429f83",
              "IPY_MODEL_2a2985d9590d4e9bbc871c9d83836b75"
            ]
          }
        },
        "143d1e6a5494413eb7d5fa25cd85ab17": {
          "model_module": "@jupyter-widgets/base",
          "model_name": "LayoutModel",
          "state": {
            "_view_name": "LayoutView",
            "grid_template_rows": null,
            "right": null,
            "justify_content": null,
            "_view_module": "@jupyter-widgets/base",
            "overflow": null,
            "_model_module_version": "1.2.0",
            "_view_count": null,
            "flex_flow": null,
            "width": null,
            "min_width": null,
            "border": null,
            "align_items": null,
            "bottom": null,
            "_model_module": "@jupyter-widgets/base",
            "top": null,
            "grid_column": null,
            "overflow_y": null,
            "overflow_x": null,
            "grid_auto_flow": null,
            "grid_area": null,
            "grid_template_columns": null,
            "flex": null,
            "_model_name": "LayoutModel",
            "justify_items": null,
            "grid_row": null,
            "max_height": null,
            "align_content": null,
            "visibility": null,
            "align_self": null,
            "height": null,
            "min_height": null,
            "padding": null,
            "grid_auto_rows": null,
            "grid_gap": null,
            "max_width": null,
            "order": null,
            "_view_module_version": "1.2.0",
            "grid_template_areas": null,
            "object_position": null,
            "object_fit": null,
            "grid_auto_columns": null,
            "margin": null,
            "display": null,
            "left": null
          }
        },
        "df55fc9b8abd492292271f3cf9429f83": {
          "model_module": "@jupyter-widgets/controls",
          "model_name": "FloatProgressModel",
          "state": {
            "_view_name": "ProgressView",
            "style": "IPY_MODEL_cec1d4fb587e466eba5edfd5199242fd",
            "_dom_classes": [],
            "description": "Downloading: 100%",
            "_model_name": "FloatProgressModel",
            "bar_style": "success",
            "max": 565485600,
            "_view_module": "@jupyter-widgets/controls",
            "_model_module_version": "1.5.0",
            "value": 565485600,
            "_view_count": null,
            "_view_module_version": "1.5.0",
            "orientation": "horizontal",
            "min": 0,
            "description_tooltip": null,
            "_model_module": "@jupyter-widgets/controls",
            "layout": "IPY_MODEL_79c2ffc3756644c794a4cfbec53592e1"
          }
        },
        "2a2985d9590d4e9bbc871c9d83836b75": {
          "model_module": "@jupyter-widgets/controls",
          "model_name": "HTMLModel",
          "state": {
            "_view_name": "HTMLView",
            "style": "IPY_MODEL_8028fd39d9204d318570b445b5036fdb",
            "_dom_classes": [],
            "description": "",
            "_model_name": "HTMLModel",
            "placeholder": "​",
            "_view_module": "@jupyter-widgets/controls",
            "_model_module_version": "1.5.0",
            "value": " 565M/565M [00:16&lt;00:00, 34.6MB/s]",
            "_view_count": null,
            "_view_module_version": "1.5.0",
            "description_tooltip": null,
            "_model_module": "@jupyter-widgets/controls",
            "layout": "IPY_MODEL_8fa08427ed9843568941c34b0bac0691"
          }
        },
        "cec1d4fb587e466eba5edfd5199242fd": {
          "model_module": "@jupyter-widgets/controls",
          "model_name": "ProgressStyleModel",
          "state": {
            "_view_name": "StyleView",
            "_model_name": "ProgressStyleModel",
            "description_width": "initial",
            "_view_module": "@jupyter-widgets/base",
            "_model_module_version": "1.5.0",
            "_view_count": null,
            "_view_module_version": "1.2.0",
            "bar_color": null,
            "_model_module": "@jupyter-widgets/controls"
          }
        },
        "79c2ffc3756644c794a4cfbec53592e1": {
          "model_module": "@jupyter-widgets/base",
          "model_name": "LayoutModel",
          "state": {
            "_view_name": "LayoutView",
            "grid_template_rows": null,
            "right": null,
            "justify_content": null,
            "_view_module": "@jupyter-widgets/base",
            "overflow": null,
            "_model_module_version": "1.2.0",
            "_view_count": null,
            "flex_flow": null,
            "width": null,
            "min_width": null,
            "border": null,
            "align_items": null,
            "bottom": null,
            "_model_module": "@jupyter-widgets/base",
            "top": null,
            "grid_column": null,
            "overflow_y": null,
            "overflow_x": null,
            "grid_auto_flow": null,
            "grid_area": null,
            "grid_template_columns": null,
            "flex": null,
            "_model_name": "LayoutModel",
            "justify_items": null,
            "grid_row": null,
            "max_height": null,
            "align_content": null,
            "visibility": null,
            "align_self": null,
            "height": null,
            "min_height": null,
            "padding": null,
            "grid_auto_rows": null,
            "grid_gap": null,
            "max_width": null,
            "order": null,
            "_view_module_version": "1.2.0",
            "grid_template_areas": null,
            "object_position": null,
            "object_fit": null,
            "grid_auto_columns": null,
            "margin": null,
            "display": null,
            "left": null
          }
        },
        "8028fd39d9204d318570b445b5036fdb": {
          "model_module": "@jupyter-widgets/controls",
          "model_name": "DescriptionStyleModel",
          "state": {
            "_view_name": "StyleView",
            "_model_name": "DescriptionStyleModel",
            "description_width": "",
            "_view_module": "@jupyter-widgets/base",
            "_model_module_version": "1.5.0",
            "_view_count": null,
            "_view_module_version": "1.2.0",
            "_model_module": "@jupyter-widgets/controls"
          }
        },
        "8fa08427ed9843568941c34b0bac0691": {
          "model_module": "@jupyter-widgets/base",
          "model_name": "LayoutModel",
          "state": {
            "_view_name": "LayoutView",
            "grid_template_rows": null,
            "right": null,
            "justify_content": null,
            "_view_module": "@jupyter-widgets/base",
            "overflow": null,
            "_model_module_version": "1.2.0",
            "_view_count": null,
            "flex_flow": null,
            "width": null,
            "min_width": null,
            "border": null,
            "align_items": null,
            "bottom": null,
            "_model_module": "@jupyter-widgets/base",
            "top": null,
            "grid_column": null,
            "overflow_y": null,
            "overflow_x": null,
            "grid_auto_flow": null,
            "grid_area": null,
            "grid_template_columns": null,
            "flex": null,
            "_model_name": "LayoutModel",
            "justify_items": null,
            "grid_row": null,
            "max_height": null,
            "align_content": null,
            "visibility": null,
            "align_self": null,
            "height": null,
            "min_height": null,
            "padding": null,
            "grid_auto_rows": null,
            "grid_gap": null,
            "max_width": null,
            "order": null,
            "_view_module_version": "1.2.0",
            "grid_template_areas": null,
            "object_position": null,
            "object_fit": null,
            "grid_auto_columns": null,
            "margin": null,
            "display": null,
            "left": null
          }
        },
        "28222eb5d5c44f51a2f88bb93801c923": {
          "model_module": "@jupyter-widgets/controls",
          "model_name": "HBoxModel",
          "state": {
            "_view_name": "HBoxView",
            "_dom_classes": [],
            "_model_name": "HBoxModel",
            "_view_module": "@jupyter-widgets/controls",
            "_model_module_version": "1.5.0",
            "_view_count": null,
            "_view_module_version": "1.5.0",
            "box_style": "",
            "layout": "IPY_MODEL_73dfccbdf44a4307a9842cf20b76bfdd",
            "_model_module": "@jupyter-widgets/controls",
            "children": [
              "IPY_MODEL_30f073f2156a4237bd551289cd4c960b",
              "IPY_MODEL_725ac34d287440c9a6b990426a4c5625"
            ]
          }
        },
        "73dfccbdf44a4307a9842cf20b76bfdd": {
          "model_module": "@jupyter-widgets/base",
          "model_name": "LayoutModel",
          "state": {
            "_view_name": "LayoutView",
            "grid_template_rows": null,
            "right": null,
            "justify_content": null,
            "_view_module": "@jupyter-widgets/base",
            "overflow": null,
            "_model_module_version": "1.2.0",
            "_view_count": null,
            "flex_flow": null,
            "width": null,
            "min_width": null,
            "border": null,
            "align_items": null,
            "bottom": null,
            "_model_module": "@jupyter-widgets/base",
            "top": null,
            "grid_column": null,
            "overflow_y": null,
            "overflow_x": null,
            "grid_auto_flow": null,
            "grid_area": null,
            "grid_template_columns": null,
            "flex": null,
            "_model_name": "LayoutModel",
            "justify_items": null,
            "grid_row": null,
            "max_height": null,
            "align_content": null,
            "visibility": null,
            "align_self": null,
            "height": null,
            "min_height": null,
            "padding": null,
            "grid_auto_rows": null,
            "grid_gap": null,
            "max_width": null,
            "order": null,
            "_view_module_version": "1.2.0",
            "grid_template_areas": null,
            "object_position": null,
            "object_fit": null,
            "grid_auto_columns": null,
            "margin": null,
            "display": null,
            "left": null
          }
        },
        "30f073f2156a4237bd551289cd4c960b": {
          "model_module": "@jupyter-widgets/controls",
          "model_name": "FloatProgressModel",
          "state": {
            "_view_name": "ProgressView",
            "style": "IPY_MODEL_9c64812e6d414435af0d7b8392166f76",
            "_dom_classes": [],
            "description": "Downloading: 100%",
            "_model_name": "FloatProgressModel",
            "bar_style": "success",
            "max": 231508,
            "_view_module": "@jupyter-widgets/controls",
            "_model_module_version": "1.5.0",
            "value": 231508,
            "_view_count": null,
            "_view_module_version": "1.5.0",
            "orientation": "horizontal",
            "min": 0,
            "description_tooltip": null,
            "_model_module": "@jupyter-widgets/controls",
            "layout": "IPY_MODEL_ae99cb140d634ffa8f3d08a9a14e271d"
          }
        },
        "725ac34d287440c9a6b990426a4c5625": {
          "model_module": "@jupyter-widgets/controls",
          "model_name": "HTMLModel",
          "state": {
            "_view_name": "HTMLView",
            "style": "IPY_MODEL_771f7babefb74c25976a22ceacaf09e2",
            "_dom_classes": [],
            "description": "",
            "_model_name": "HTMLModel",
            "placeholder": "​",
            "_view_module": "@jupyter-widgets/controls",
            "_model_module_version": "1.5.0",
            "value": " 232k/232k [00:00&lt;00:00, 718kB/s]",
            "_view_count": null,
            "_view_module_version": "1.5.0",
            "description_tooltip": null,
            "_model_module": "@jupyter-widgets/controls",
            "layout": "IPY_MODEL_577776f422204105b143254a0c6d6592"
          }
        },
        "9c64812e6d414435af0d7b8392166f76": {
          "model_module": "@jupyter-widgets/controls",
          "model_name": "ProgressStyleModel",
          "state": {
            "_view_name": "StyleView",
            "_model_name": "ProgressStyleModel",
            "description_width": "initial",
            "_view_module": "@jupyter-widgets/base",
            "_model_module_version": "1.5.0",
            "_view_count": null,
            "_view_module_version": "1.2.0",
            "bar_color": null,
            "_model_module": "@jupyter-widgets/controls"
          }
        },
        "ae99cb140d634ffa8f3d08a9a14e271d": {
          "model_module": "@jupyter-widgets/base",
          "model_name": "LayoutModel",
          "state": {
            "_view_name": "LayoutView",
            "grid_template_rows": null,
            "right": null,
            "justify_content": null,
            "_view_module": "@jupyter-widgets/base",
            "overflow": null,
            "_model_module_version": "1.2.0",
            "_view_count": null,
            "flex_flow": null,
            "width": null,
            "min_width": null,
            "border": null,
            "align_items": null,
            "bottom": null,
            "_model_module": "@jupyter-widgets/base",
            "top": null,
            "grid_column": null,
            "overflow_y": null,
            "overflow_x": null,
            "grid_auto_flow": null,
            "grid_area": null,
            "grid_template_columns": null,
            "flex": null,
            "_model_name": "LayoutModel",
            "justify_items": null,
            "grid_row": null,
            "max_height": null,
            "align_content": null,
            "visibility": null,
            "align_self": null,
            "height": null,
            "min_height": null,
            "padding": null,
            "grid_auto_rows": null,
            "grid_gap": null,
            "max_width": null,
            "order": null,
            "_view_module_version": "1.2.0",
            "grid_template_areas": null,
            "object_position": null,
            "object_fit": null,
            "grid_auto_columns": null,
            "margin": null,
            "display": null,
            "left": null
          }
        },
        "771f7babefb74c25976a22ceacaf09e2": {
          "model_module": "@jupyter-widgets/controls",
          "model_name": "DescriptionStyleModel",
          "state": {
            "_view_name": "StyleView",
            "_model_name": "DescriptionStyleModel",
            "description_width": "",
            "_view_module": "@jupyter-widgets/base",
            "_model_module_version": "1.5.0",
            "_view_count": null,
            "_view_module_version": "1.2.0",
            "_model_module": "@jupyter-widgets/controls"
          }
        },
        "577776f422204105b143254a0c6d6592": {
          "model_module": "@jupyter-widgets/base",
          "model_name": "LayoutModel",
          "state": {
            "_view_name": "LayoutView",
            "grid_template_rows": null,
            "right": null,
            "justify_content": null,
            "_view_module": "@jupyter-widgets/base",
            "overflow": null,
            "_model_module_version": "1.2.0",
            "_view_count": null,
            "flex_flow": null,
            "width": null,
            "min_width": null,
            "border": null,
            "align_items": null,
            "bottom": null,
            "_model_module": "@jupyter-widgets/base",
            "top": null,
            "grid_column": null,
            "overflow_y": null,
            "overflow_x": null,
            "grid_auto_flow": null,
            "grid_area": null,
            "grid_template_columns": null,
            "flex": null,
            "_model_name": "LayoutModel",
            "justify_items": null,
            "grid_row": null,
            "max_height": null,
            "align_content": null,
            "visibility": null,
            "align_self": null,
            "height": null,
            "min_height": null,
            "padding": null,
            "grid_auto_rows": null,
            "grid_gap": null,
            "max_width": null,
            "order": null,
            "_view_module_version": "1.2.0",
            "grid_template_areas": null,
            "object_position": null,
            "object_fit": null,
            "grid_auto_columns": null,
            "margin": null,
            "display": null,
            "left": null
          }
        },
        "4d112e2571194c259c290265c542c460": {
          "model_module": "@jupyter-widgets/controls",
          "model_name": "HBoxModel",
          "state": {
            "_view_name": "HBoxView",
            "_dom_classes": [],
            "_model_name": "HBoxModel",
            "_view_module": "@jupyter-widgets/controls",
            "_model_module_version": "1.5.0",
            "_view_count": null,
            "_view_module_version": "1.5.0",
            "box_style": "",
            "layout": "IPY_MODEL_e9d2bf79e1a04a0f920d5e2c2587d1bd",
            "_model_module": "@jupyter-widgets/controls",
            "children": [
              "IPY_MODEL_45648403b5e44b139054942c2cfe5450",
              "IPY_MODEL_bc31f30b783b47bc82da40e7f7d93c68"
            ]
          }
        },
        "e9d2bf79e1a04a0f920d5e2c2587d1bd": {
          "model_module": "@jupyter-widgets/base",
          "model_name": "LayoutModel",
          "state": {
            "_view_name": "LayoutView",
            "grid_template_rows": null,
            "right": null,
            "justify_content": null,
            "_view_module": "@jupyter-widgets/base",
            "overflow": null,
            "_model_module_version": "1.2.0",
            "_view_count": null,
            "flex_flow": null,
            "width": null,
            "min_width": null,
            "border": null,
            "align_items": null,
            "bottom": null,
            "_model_module": "@jupyter-widgets/base",
            "top": null,
            "grid_column": null,
            "overflow_y": null,
            "overflow_x": null,
            "grid_auto_flow": null,
            "grid_area": null,
            "grid_template_columns": null,
            "flex": null,
            "_model_name": "LayoutModel",
            "justify_items": null,
            "grid_row": null,
            "max_height": null,
            "align_content": null,
            "visibility": null,
            "align_self": null,
            "height": null,
            "min_height": null,
            "padding": null,
            "grid_auto_rows": null,
            "grid_gap": null,
            "max_width": null,
            "order": null,
            "_view_module_version": "1.2.0",
            "grid_template_areas": null,
            "object_position": null,
            "object_fit": null,
            "grid_auto_columns": null,
            "margin": null,
            "display": null,
            "left": null
          }
        },
        "45648403b5e44b139054942c2cfe5450": {
          "model_module": "@jupyter-widgets/controls",
          "model_name": "FloatProgressModel",
          "state": {
            "_view_name": "ProgressView",
            "style": "IPY_MODEL_05d54e0439dc4262b14117b61be35c50",
            "_dom_classes": [],
            "description": "Downloading: 100%",
            "_model_name": "FloatProgressModel",
            "bar_style": "success",
            "max": 28,
            "_view_module": "@jupyter-widgets/controls",
            "_model_module_version": "1.5.0",
            "value": 28,
            "_view_count": null,
            "_view_module_version": "1.5.0",
            "orientation": "horizontal",
            "min": 0,
            "description_tooltip": null,
            "_model_module": "@jupyter-widgets/controls",
            "layout": "IPY_MODEL_07e79610041e4985a327fb7fb2158b24"
          }
        },
        "bc31f30b783b47bc82da40e7f7d93c68": {
          "model_module": "@jupyter-widgets/controls",
          "model_name": "HTMLModel",
          "state": {
            "_view_name": "HTMLView",
            "style": "IPY_MODEL_9560a2cd201245249eb0c2f5a7bac9a9",
            "_dom_classes": [],
            "description": "",
            "_model_name": "HTMLModel",
            "placeholder": "​",
            "_view_module": "@jupyter-widgets/controls",
            "_model_module_version": "1.5.0",
            "value": " 28.0/28.0 [00:00&lt;00:00, 161B/s]",
            "_view_count": null,
            "_view_module_version": "1.5.0",
            "description_tooltip": null,
            "_model_module": "@jupyter-widgets/controls",
            "layout": "IPY_MODEL_83f90f0fc89f4385ad289a5c621df183"
          }
        },
        "05d54e0439dc4262b14117b61be35c50": {
          "model_module": "@jupyter-widgets/controls",
          "model_name": "ProgressStyleModel",
          "state": {
            "_view_name": "StyleView",
            "_model_name": "ProgressStyleModel",
            "description_width": "initial",
            "_view_module": "@jupyter-widgets/base",
            "_model_module_version": "1.5.0",
            "_view_count": null,
            "_view_module_version": "1.2.0",
            "bar_color": null,
            "_model_module": "@jupyter-widgets/controls"
          }
        },
        "07e79610041e4985a327fb7fb2158b24": {
          "model_module": "@jupyter-widgets/base",
          "model_name": "LayoutModel",
          "state": {
            "_view_name": "LayoutView",
            "grid_template_rows": null,
            "right": null,
            "justify_content": null,
            "_view_module": "@jupyter-widgets/base",
            "overflow": null,
            "_model_module_version": "1.2.0",
            "_view_count": null,
            "flex_flow": null,
            "width": null,
            "min_width": null,
            "border": null,
            "align_items": null,
            "bottom": null,
            "_model_module": "@jupyter-widgets/base",
            "top": null,
            "grid_column": null,
            "overflow_y": null,
            "overflow_x": null,
            "grid_auto_flow": null,
            "grid_area": null,
            "grid_template_columns": null,
            "flex": null,
            "_model_name": "LayoutModel",
            "justify_items": null,
            "grid_row": null,
            "max_height": null,
            "align_content": null,
            "visibility": null,
            "align_self": null,
            "height": null,
            "min_height": null,
            "padding": null,
            "grid_auto_rows": null,
            "grid_gap": null,
            "max_width": null,
            "order": null,
            "_view_module_version": "1.2.0",
            "grid_template_areas": null,
            "object_position": null,
            "object_fit": null,
            "grid_auto_columns": null,
            "margin": null,
            "display": null,
            "left": null
          }
        },
        "9560a2cd201245249eb0c2f5a7bac9a9": {
          "model_module": "@jupyter-widgets/controls",
          "model_name": "DescriptionStyleModel",
          "state": {
            "_view_name": "StyleView",
            "_model_name": "DescriptionStyleModel",
            "description_width": "",
            "_view_module": "@jupyter-widgets/base",
            "_model_module_version": "1.5.0",
            "_view_count": null,
            "_view_module_version": "1.2.0",
            "_model_module": "@jupyter-widgets/controls"
          }
        },
        "83f90f0fc89f4385ad289a5c621df183": {
          "model_module": "@jupyter-widgets/base",
          "model_name": "LayoutModel",
          "state": {
            "_view_name": "LayoutView",
            "grid_template_rows": null,
            "right": null,
            "justify_content": null,
            "_view_module": "@jupyter-widgets/base",
            "overflow": null,
            "_model_module_version": "1.2.0",
            "_view_count": null,
            "flex_flow": null,
            "width": null,
            "min_width": null,
            "border": null,
            "align_items": null,
            "bottom": null,
            "_model_module": "@jupyter-widgets/base",
            "top": null,
            "grid_column": null,
            "overflow_y": null,
            "overflow_x": null,
            "grid_auto_flow": null,
            "grid_area": null,
            "grid_template_columns": null,
            "flex": null,
            "_model_name": "LayoutModel",
            "justify_items": null,
            "grid_row": null,
            "max_height": null,
            "align_content": null,
            "visibility": null,
            "align_self": null,
            "height": null,
            "min_height": null,
            "padding": null,
            "grid_auto_rows": null,
            "grid_gap": null,
            "max_width": null,
            "order": null,
            "_view_module_version": "1.2.0",
            "grid_template_areas": null,
            "object_position": null,
            "object_fit": null,
            "grid_auto_columns": null,
            "margin": null,
            "display": null,
            "left": null
          }
        },
        "8dff1d40a9964265a32cf45dd5a05b69": {
          "model_module": "@jupyter-widgets/controls",
          "model_name": "HBoxModel",
          "state": {
            "_view_name": "HBoxView",
            "_dom_classes": [],
            "_model_name": "HBoxModel",
            "_view_module": "@jupyter-widgets/controls",
            "_model_module_version": "1.5.0",
            "_view_count": null,
            "_view_module_version": "1.5.0",
            "box_style": "",
            "layout": "IPY_MODEL_7e65eb82c75e4213821e95d32bc4a271",
            "_model_module": "@jupyter-widgets/controls",
            "children": [
              "IPY_MODEL_ca7a8c9ea2684fa5a82f0274e30e39b1",
              "IPY_MODEL_901b91073f4d44c4ad6ecb1a6da4d953"
            ]
          }
        },
        "7e65eb82c75e4213821e95d32bc4a271": {
          "model_module": "@jupyter-widgets/base",
          "model_name": "LayoutModel",
          "state": {
            "_view_name": "LayoutView",
            "grid_template_rows": null,
            "right": null,
            "justify_content": null,
            "_view_module": "@jupyter-widgets/base",
            "overflow": null,
            "_model_module_version": "1.2.0",
            "_view_count": null,
            "flex_flow": null,
            "width": null,
            "min_width": null,
            "border": null,
            "align_items": null,
            "bottom": null,
            "_model_module": "@jupyter-widgets/base",
            "top": null,
            "grid_column": null,
            "overflow_y": null,
            "overflow_x": null,
            "grid_auto_flow": null,
            "grid_area": null,
            "grid_template_columns": null,
            "flex": null,
            "_model_name": "LayoutModel",
            "justify_items": null,
            "grid_row": null,
            "max_height": null,
            "align_content": null,
            "visibility": null,
            "align_self": null,
            "height": null,
            "min_height": null,
            "padding": null,
            "grid_auto_rows": null,
            "grid_gap": null,
            "max_width": null,
            "order": null,
            "_view_module_version": "1.2.0",
            "grid_template_areas": null,
            "object_position": null,
            "object_fit": null,
            "grid_auto_columns": null,
            "margin": null,
            "display": null,
            "left": null
          }
        },
        "ca7a8c9ea2684fa5a82f0274e30e39b1": {
          "model_module": "@jupyter-widgets/controls",
          "model_name": "FloatProgressModel",
          "state": {
            "_view_name": "ProgressView",
            "style": "IPY_MODEL_5b5d9be9a6ee492c8fe36908d1a8ee78",
            "_dom_classes": [],
            "description": "Downloading: 100%",
            "_model_name": "FloatProgressModel",
            "bar_style": "success",
            "max": 466062,
            "_view_module": "@jupyter-widgets/controls",
            "_model_module_version": "1.5.0",
            "value": 466062,
            "_view_count": null,
            "_view_module_version": "1.5.0",
            "orientation": "horizontal",
            "min": 0,
            "description_tooltip": null,
            "_model_module": "@jupyter-widgets/controls",
            "layout": "IPY_MODEL_3aade6448bee498d80c74e6ba585f5cd"
          }
        },
        "901b91073f4d44c4ad6ecb1a6da4d953": {
          "model_module": "@jupyter-widgets/controls",
          "model_name": "HTMLModel",
          "state": {
            "_view_name": "HTMLView",
            "style": "IPY_MODEL_98f1788c173a444b83d557c6a74da2af",
            "_dom_classes": [],
            "description": "",
            "_model_name": "HTMLModel",
            "placeholder": "​",
            "_view_module": "@jupyter-widgets/controls",
            "_model_module_version": "1.5.0",
            "value": " 466k/466k [00:00&lt;00:00, 5.85MB/s]",
            "_view_count": null,
            "_view_module_version": "1.5.0",
            "description_tooltip": null,
            "_model_module": "@jupyter-widgets/controls",
            "layout": "IPY_MODEL_51a9fa1310204a6e8cccb1f2f6d91b4a"
          }
        },
        "5b5d9be9a6ee492c8fe36908d1a8ee78": {
          "model_module": "@jupyter-widgets/controls",
          "model_name": "ProgressStyleModel",
          "state": {
            "_view_name": "StyleView",
            "_model_name": "ProgressStyleModel",
            "description_width": "initial",
            "_view_module": "@jupyter-widgets/base",
            "_model_module_version": "1.5.0",
            "_view_count": null,
            "_view_module_version": "1.2.0",
            "bar_color": null,
            "_model_module": "@jupyter-widgets/controls"
          }
        },
        "3aade6448bee498d80c74e6ba585f5cd": {
          "model_module": "@jupyter-widgets/base",
          "model_name": "LayoutModel",
          "state": {
            "_view_name": "LayoutView",
            "grid_template_rows": null,
            "right": null,
            "justify_content": null,
            "_view_module": "@jupyter-widgets/base",
            "overflow": null,
            "_model_module_version": "1.2.0",
            "_view_count": null,
            "flex_flow": null,
            "width": null,
            "min_width": null,
            "border": null,
            "align_items": null,
            "bottom": null,
            "_model_module": "@jupyter-widgets/base",
            "top": null,
            "grid_column": null,
            "overflow_y": null,
            "overflow_x": null,
            "grid_auto_flow": null,
            "grid_area": null,
            "grid_template_columns": null,
            "flex": null,
            "_model_name": "LayoutModel",
            "justify_items": null,
            "grid_row": null,
            "max_height": null,
            "align_content": null,
            "visibility": null,
            "align_self": null,
            "height": null,
            "min_height": null,
            "padding": null,
            "grid_auto_rows": null,
            "grid_gap": null,
            "max_width": null,
            "order": null,
            "_view_module_version": "1.2.0",
            "grid_template_areas": null,
            "object_position": null,
            "object_fit": null,
            "grid_auto_columns": null,
            "margin": null,
            "display": null,
            "left": null
          }
        },
        "98f1788c173a444b83d557c6a74da2af": {
          "model_module": "@jupyter-widgets/controls",
          "model_name": "DescriptionStyleModel",
          "state": {
            "_view_name": "StyleView",
            "_model_name": "DescriptionStyleModel",
            "description_width": "",
            "_view_module": "@jupyter-widgets/base",
            "_model_module_version": "1.5.0",
            "_view_count": null,
            "_view_module_version": "1.2.0",
            "_model_module": "@jupyter-widgets/controls"
          }
        },
        "51a9fa1310204a6e8cccb1f2f6d91b4a": {
          "model_module": "@jupyter-widgets/base",
          "model_name": "LayoutModel",
          "state": {
            "_view_name": "LayoutView",
            "grid_template_rows": null,
            "right": null,
            "justify_content": null,
            "_view_module": "@jupyter-widgets/base",
            "overflow": null,
            "_model_module_version": "1.2.0",
            "_view_count": null,
            "flex_flow": null,
            "width": null,
            "min_width": null,
            "border": null,
            "align_items": null,
            "bottom": null,
            "_model_module": "@jupyter-widgets/base",
            "top": null,
            "grid_column": null,
            "overflow_y": null,
            "overflow_x": null,
            "grid_auto_flow": null,
            "grid_area": null,
            "grid_template_columns": null,
            "flex": null,
            "_model_name": "LayoutModel",
            "justify_items": null,
            "grid_row": null,
            "max_height": null,
            "align_content": null,
            "visibility": null,
            "align_self": null,
            "height": null,
            "min_height": null,
            "padding": null,
            "grid_auto_rows": null,
            "grid_gap": null,
            "max_width": null,
            "order": null,
            "_view_module_version": "1.2.0",
            "grid_template_areas": null,
            "object_position": null,
            "object_fit": null,
            "grid_auto_columns": null,
            "margin": null,
            "display": null,
            "left": null
          }
        },
        "5be3677fce5948bcbf5a33031e46a2a8": {
          "model_module": "@jupyter-widgets/controls",
          "model_name": "HBoxModel",
          "state": {
            "_view_name": "HBoxView",
            "_dom_classes": [],
            "_model_name": "HBoxModel",
            "_view_module": "@jupyter-widgets/controls",
            "_model_module_version": "1.5.0",
            "_view_count": null,
            "_view_module_version": "1.5.0",
            "box_style": "",
            "layout": "IPY_MODEL_a42fb7e47de1449caf923741be67ee26",
            "_model_module": "@jupyter-widgets/controls",
            "children": [
              "IPY_MODEL_d4b7191d11ed4e14a37909f126abcc42",
              "IPY_MODEL_8a7b5e29c0974e739f4dabc752984558"
            ]
          }
        },
        "a42fb7e47de1449caf923741be67ee26": {
          "model_module": "@jupyter-widgets/base",
          "model_name": "LayoutModel",
          "state": {
            "_view_name": "LayoutView",
            "grid_template_rows": null,
            "right": null,
            "justify_content": null,
            "_view_module": "@jupyter-widgets/base",
            "overflow": null,
            "_model_module_version": "1.2.0",
            "_view_count": null,
            "flex_flow": null,
            "width": null,
            "min_width": null,
            "border": null,
            "align_items": null,
            "bottom": null,
            "_model_module": "@jupyter-widgets/base",
            "top": null,
            "grid_column": null,
            "overflow_y": null,
            "overflow_x": null,
            "grid_auto_flow": null,
            "grid_area": null,
            "grid_template_columns": null,
            "flex": null,
            "_model_name": "LayoutModel",
            "justify_items": null,
            "grid_row": null,
            "max_height": null,
            "align_content": null,
            "visibility": null,
            "align_self": null,
            "height": null,
            "min_height": null,
            "padding": null,
            "grid_auto_rows": null,
            "grid_gap": null,
            "max_width": null,
            "order": null,
            "_view_module_version": "1.2.0",
            "grid_template_areas": null,
            "object_position": null,
            "object_fit": null,
            "grid_auto_columns": null,
            "margin": null,
            "display": null,
            "left": null
          }
        },
        "d4b7191d11ed4e14a37909f126abcc42": {
          "model_module": "@jupyter-widgets/controls",
          "model_name": "FloatProgressModel",
          "state": {
            "_view_name": "ProgressView",
            "style": "IPY_MODEL_b339fdd169a7426a9a8356dab0f67dec",
            "_dom_classes": [],
            "description": "Downloading: 100%",
            "_model_name": "FloatProgressModel",
            "bar_style": "success",
            "max": 442,
            "_view_module": "@jupyter-widgets/controls",
            "_model_module_version": "1.5.0",
            "value": 442,
            "_view_count": null,
            "_view_module_version": "1.5.0",
            "orientation": "horizontal",
            "min": 0,
            "description_tooltip": null,
            "_model_module": "@jupyter-widgets/controls",
            "layout": "IPY_MODEL_09aaee7013344bdfb6c5f50777d45129"
          }
        },
        "8a7b5e29c0974e739f4dabc752984558": {
          "model_module": "@jupyter-widgets/controls",
          "model_name": "HTMLModel",
          "state": {
            "_view_name": "HTMLView",
            "style": "IPY_MODEL_66b1a364eb174233808d175f103b6165",
            "_dom_classes": [],
            "description": "",
            "_model_name": "HTMLModel",
            "placeholder": "​",
            "_view_module": "@jupyter-widgets/controls",
            "_model_module_version": "1.5.0",
            "value": " 442/442 [00:00&lt;00:00, 1.38kB/s]",
            "_view_count": null,
            "_view_module_version": "1.5.0",
            "description_tooltip": null,
            "_model_module": "@jupyter-widgets/controls",
            "layout": "IPY_MODEL_1ce799c96c784ee49f933dbda7439ebf"
          }
        },
        "b339fdd169a7426a9a8356dab0f67dec": {
          "model_module": "@jupyter-widgets/controls",
          "model_name": "ProgressStyleModel",
          "state": {
            "_view_name": "StyleView",
            "_model_name": "ProgressStyleModel",
            "description_width": "initial",
            "_view_module": "@jupyter-widgets/base",
            "_model_module_version": "1.5.0",
            "_view_count": null,
            "_view_module_version": "1.2.0",
            "bar_color": null,
            "_model_module": "@jupyter-widgets/controls"
          }
        },
        "09aaee7013344bdfb6c5f50777d45129": {
          "model_module": "@jupyter-widgets/base",
          "model_name": "LayoutModel",
          "state": {
            "_view_name": "LayoutView",
            "grid_template_rows": null,
            "right": null,
            "justify_content": null,
            "_view_module": "@jupyter-widgets/base",
            "overflow": null,
            "_model_module_version": "1.2.0",
            "_view_count": null,
            "flex_flow": null,
            "width": null,
            "min_width": null,
            "border": null,
            "align_items": null,
            "bottom": null,
            "_model_module": "@jupyter-widgets/base",
            "top": null,
            "grid_column": null,
            "overflow_y": null,
            "overflow_x": null,
            "grid_auto_flow": null,
            "grid_area": null,
            "grid_template_columns": null,
            "flex": null,
            "_model_name": "LayoutModel",
            "justify_items": null,
            "grid_row": null,
            "max_height": null,
            "align_content": null,
            "visibility": null,
            "align_self": null,
            "height": null,
            "min_height": null,
            "padding": null,
            "grid_auto_rows": null,
            "grid_gap": null,
            "max_width": null,
            "order": null,
            "_view_module_version": "1.2.0",
            "grid_template_areas": null,
            "object_position": null,
            "object_fit": null,
            "grid_auto_columns": null,
            "margin": null,
            "display": null,
            "left": null
          }
        },
        "66b1a364eb174233808d175f103b6165": {
          "model_module": "@jupyter-widgets/controls",
          "model_name": "DescriptionStyleModel",
          "state": {
            "_view_name": "StyleView",
            "_model_name": "DescriptionStyleModel",
            "description_width": "",
            "_view_module": "@jupyter-widgets/base",
            "_model_module_version": "1.5.0",
            "_view_count": null,
            "_view_module_version": "1.2.0",
            "_model_module": "@jupyter-widgets/controls"
          }
        },
        "1ce799c96c784ee49f933dbda7439ebf": {
          "model_module": "@jupyter-widgets/base",
          "model_name": "LayoutModel",
          "state": {
            "_view_name": "LayoutView",
            "grid_template_rows": null,
            "right": null,
            "justify_content": null,
            "_view_module": "@jupyter-widgets/base",
            "overflow": null,
            "_model_module_version": "1.2.0",
            "_view_count": null,
            "flex_flow": null,
            "width": null,
            "min_width": null,
            "border": null,
            "align_items": null,
            "bottom": null,
            "_model_module": "@jupyter-widgets/base",
            "top": null,
            "grid_column": null,
            "overflow_y": null,
            "overflow_x": null,
            "grid_auto_flow": null,
            "grid_area": null,
            "grid_template_columns": null,
            "flex": null,
            "_model_name": "LayoutModel",
            "justify_items": null,
            "grid_row": null,
            "max_height": null,
            "align_content": null,
            "visibility": null,
            "align_self": null,
            "height": null,
            "min_height": null,
            "padding": null,
            "grid_auto_rows": null,
            "grid_gap": null,
            "max_width": null,
            "order": null,
            "_view_module_version": "1.2.0",
            "grid_template_areas": null,
            "object_position": null,
            "object_fit": null,
            "grid_auto_columns": null,
            "margin": null,
            "display": null,
            "left": null
          }
        },
        "e0048b1bf2f04fbaaa41bab6d112e984": {
          "model_module": "@jupyter-widgets/controls",
          "model_name": "HBoxModel",
          "state": {
            "_view_name": "HBoxView",
            "_dom_classes": [],
            "_model_name": "HBoxModel",
            "_view_module": "@jupyter-widgets/controls",
            "_model_module_version": "1.5.0",
            "_view_count": null,
            "_view_module_version": "1.5.0",
            "box_style": "",
            "layout": "IPY_MODEL_157bd3fde3b14d04bbb89121edaaab3b",
            "_model_module": "@jupyter-widgets/controls",
            "children": [
              "IPY_MODEL_ecde90a4d8624d71b037ad4f57fd79e1",
              "IPY_MODEL_abfc7d4941db4f93aff29f02eec8118d"
            ]
          }
        },
        "157bd3fde3b14d04bbb89121edaaab3b": {
          "model_module": "@jupyter-widgets/base",
          "model_name": "LayoutModel",
          "state": {
            "_view_name": "LayoutView",
            "grid_template_rows": null,
            "right": null,
            "justify_content": null,
            "_view_module": "@jupyter-widgets/base",
            "overflow": null,
            "_model_module_version": "1.2.0",
            "_view_count": null,
            "flex_flow": null,
            "width": null,
            "min_width": null,
            "border": null,
            "align_items": null,
            "bottom": null,
            "_model_module": "@jupyter-widgets/base",
            "top": null,
            "grid_column": null,
            "overflow_y": null,
            "overflow_x": null,
            "grid_auto_flow": null,
            "grid_area": null,
            "grid_template_columns": null,
            "flex": null,
            "_model_name": "LayoutModel",
            "justify_items": null,
            "grid_row": null,
            "max_height": null,
            "align_content": null,
            "visibility": null,
            "align_self": null,
            "height": null,
            "min_height": null,
            "padding": null,
            "grid_auto_rows": null,
            "grid_gap": null,
            "max_width": null,
            "order": null,
            "_view_module_version": "1.2.0",
            "grid_template_areas": null,
            "object_position": null,
            "object_fit": null,
            "grid_auto_columns": null,
            "margin": null,
            "display": null,
            "left": null
          }
        },
        "ecde90a4d8624d71b037ad4f57fd79e1": {
          "model_module": "@jupyter-widgets/controls",
          "model_name": "FloatProgressModel",
          "state": {
            "_view_name": "ProgressView",
            "style": "IPY_MODEL_e6a01e0f425e48e2818be4c7c5711d85",
            "_dom_classes": [],
            "description": "Downloading: 100%",
            "_model_name": "FloatProgressModel",
            "bar_style": "success",
            "max": 363423424,
            "_view_module": "@jupyter-widgets/controls",
            "_model_module_version": "1.5.0",
            "value": 363423424,
            "_view_count": null,
            "_view_module_version": "1.5.0",
            "orientation": "horizontal",
            "min": 0,
            "description_tooltip": null,
            "_model_module": "@jupyter-widgets/controls",
            "layout": "IPY_MODEL_42808a1cc5d843e7aab783e64b759b64"
          }
        },
        "abfc7d4941db4f93aff29f02eec8118d": {
          "model_module": "@jupyter-widgets/controls",
          "model_name": "HTMLModel",
          "state": {
            "_view_name": "HTMLView",
            "style": "IPY_MODEL_48a54511398245418971ade5b48eed54",
            "_dom_classes": [],
            "description": "",
            "_model_name": "HTMLModel",
            "placeholder": "​",
            "_view_module": "@jupyter-widgets/controls",
            "_model_module_version": "1.5.0",
            "value": " 363M/363M [00:09&lt;00:00, 37.5MB/s]",
            "_view_count": null,
            "_view_module_version": "1.5.0",
            "description_tooltip": null,
            "_model_module": "@jupyter-widgets/controls",
            "layout": "IPY_MODEL_62887e3a99064db0952b0af4d5da9968"
          }
        },
        "e6a01e0f425e48e2818be4c7c5711d85": {
          "model_module": "@jupyter-widgets/controls",
          "model_name": "ProgressStyleModel",
          "state": {
            "_view_name": "StyleView",
            "_model_name": "ProgressStyleModel",
            "description_width": "initial",
            "_view_module": "@jupyter-widgets/base",
            "_model_module_version": "1.5.0",
            "_view_count": null,
            "_view_module_version": "1.2.0",
            "bar_color": null,
            "_model_module": "@jupyter-widgets/controls"
          }
        },
        "42808a1cc5d843e7aab783e64b759b64": {
          "model_module": "@jupyter-widgets/base",
          "model_name": "LayoutModel",
          "state": {
            "_view_name": "LayoutView",
            "grid_template_rows": null,
            "right": null,
            "justify_content": null,
            "_view_module": "@jupyter-widgets/base",
            "overflow": null,
            "_model_module_version": "1.2.0",
            "_view_count": null,
            "flex_flow": null,
            "width": null,
            "min_width": null,
            "border": null,
            "align_items": null,
            "bottom": null,
            "_model_module": "@jupyter-widgets/base",
            "top": null,
            "grid_column": null,
            "overflow_y": null,
            "overflow_x": null,
            "grid_auto_flow": null,
            "grid_area": null,
            "grid_template_columns": null,
            "flex": null,
            "_model_name": "LayoutModel",
            "justify_items": null,
            "grid_row": null,
            "max_height": null,
            "align_content": null,
            "visibility": null,
            "align_self": null,
            "height": null,
            "min_height": null,
            "padding": null,
            "grid_auto_rows": null,
            "grid_gap": null,
            "max_width": null,
            "order": null,
            "_view_module_version": "1.2.0",
            "grid_template_areas": null,
            "object_position": null,
            "object_fit": null,
            "grid_auto_columns": null,
            "margin": null,
            "display": null,
            "left": null
          }
        },
        "48a54511398245418971ade5b48eed54": {
          "model_module": "@jupyter-widgets/controls",
          "model_name": "DescriptionStyleModel",
          "state": {
            "_view_name": "StyleView",
            "_model_name": "DescriptionStyleModel",
            "description_width": "",
            "_view_module": "@jupyter-widgets/base",
            "_model_module_version": "1.5.0",
            "_view_count": null,
            "_view_module_version": "1.2.0",
            "_model_module": "@jupyter-widgets/controls"
          }
        },
        "62887e3a99064db0952b0af4d5da9968": {
          "model_module": "@jupyter-widgets/base",
          "model_name": "LayoutModel",
          "state": {
            "_view_name": "LayoutView",
            "grid_template_rows": null,
            "right": null,
            "justify_content": null,
            "_view_module": "@jupyter-widgets/base",
            "overflow": null,
            "_model_module_version": "1.2.0",
            "_view_count": null,
            "flex_flow": null,
            "width": null,
            "min_width": null,
            "border": null,
            "align_items": null,
            "bottom": null,
            "_model_module": "@jupyter-widgets/base",
            "top": null,
            "grid_column": null,
            "overflow_y": null,
            "overflow_x": null,
            "grid_auto_flow": null,
            "grid_area": null,
            "grid_template_columns": null,
            "flex": null,
            "_model_name": "LayoutModel",
            "justify_items": null,
            "grid_row": null,
            "max_height": null,
            "align_content": null,
            "visibility": null,
            "align_self": null,
            "height": null,
            "min_height": null,
            "padding": null,
            "grid_auto_rows": null,
            "grid_gap": null,
            "max_width": null,
            "order": null,
            "_view_module_version": "1.2.0",
            "grid_template_areas": null,
            "object_position": null,
            "object_fit": null,
            "grid_auto_columns": null,
            "margin": null,
            "display": null,
            "left": null
          }
        }
      }
    }
  },
  "cells": [
    {
      "cell_type": "markdown",
      "metadata": {
        "id": "view-in-github",
        "colab_type": "text"
      },
      "source": [
        "<a href=\"https://colab.research.google.com/github/muawenkei/smyxrepository/blob/master/Assignment/Assignment_2.ipynb\" target=\"_parent\"><img src=\"https://colab.research.google.com/assets/colab-badge.svg\" alt=\"Open In Colab\"/></a>"
      ]
    },
    {
      "cell_type": "markdown",
      "metadata": {
        "id": "4NzW2BbFzSdh"
      },
      "source": [
        "#A Comparative Study of Latest Models for TwitterSentiment Analysis (Assignment2)\n"
      ]
    },
    {
      "cell_type": "code",
      "metadata": {
        "id": "nk0hIUcdXpi2"
      },
      "source": [
        "# Silent installation \n",
        "!pip install -U tensorflow zhon transformers sentencepiece &> /dev/null\n",
        "# Download dataset and lib files from the github\n",
        "!git clone https://github.com/cardiffnlp/tweeteval.git &> /dev/null\n",
        "!git clone https://github.com/gibsonx/grocery.git &> /dev/null"
      ],
      "execution_count": 1,
      "outputs": []
    },
    {
      "cell_type": "code",
      "metadata": {
        "id": "8WFgb6kZXX8C",
        "colab": {
          "base_uri": "https://localhost:8080/"
        },
        "outputId": "0a128acb-a8c7-4de5-f7c4-8ad48c15c2ea"
      },
      "source": [
        "import sys\n",
        "import numpy as np\n",
        "import matplotlib.pyplot as plt\n",
        "import tensorflow as tf\n",
        "from tensorflow.keras import Input, layers, losses, preprocessing, utils\n",
        "from tensorflow.keras.callbacks import ModelCheckpoint\n",
        "from tensorflow.keras.models import Model\n",
        "from tensorflow.keras.optimizers import Adam\n",
        "from keras.layers.core import Dense\n",
        "from sklearn.metrics import accuracy_score, roc_auc_score, roc_curve,confusion_matrix,f1_score\n",
        "\n",
        "#Import customized classes and libraries from file\n",
        "sys.path.insert(0, '/content/grocery/')\n",
        "from CE888_Transformer import DataPrep, imbalance_under_sampling , create_model, get_tokenization, warmup\n",
        "from CustomizedPlots import *\n",
        "try:\n",
        "    %tensorflow_version 2.x\n",
        "except Exception:\n",
        "    pass\n",
        "print(\"Num GPUs Available: \", len(tf.config.list_physical_devices('GPU')))"
      ],
      "execution_count": 2,
      "outputs": [
        {
          "output_type": "stream",
          "text": [
            "Num GPUs Available:  1\n"
          ],
          "name": "stdout"
        }
      ]
    },
    {
      "cell_type": "markdown",
      "metadata": {
        "id": "1s7tr1fdFsKT"
      },
      "source": [
        "#1.Data nominalization for training , validation and test datasets (Hate, Irony and Offensive)"
      ]
    },
    {
      "cell_type": "code",
      "metadata": {
        "id": "hcveRCcrB1Kh",
        "colab": {
          "base_uri": "https://localhost:8080/",
          "height": 220
        },
        "outputId": "7a9d925d-fa5b-4a25-b401-6130260f7380"
      },
      "source": [
        "#Define the root folder where we put the datasets\n",
        "base_dir = '/content/tweeteval/datasets/'\n",
        "\n",
        "#Create hate dataframe\n",
        "hate = DataPrep(base_dir, 'hate') \n",
        "hate_dict_train, hate_dict_val, hate_dict_test = hate.dataframe()\n",
        "df_hate = hate.dataframe_merge()\n",
        "not_hate, hate = hate.binary_split()\n",
        "\n",
        "#Create irony dataframe\n",
        "irony = DataPrep(base_dir, 'irony') \n",
        "irony_dict_train, irony_dict_val, irony_dict_test = irony.dataframe()\n",
        "df_irony = irony.dataframe_merge()\n",
        "not_irony, irony = irony.binary_split()\n",
        "\n",
        "#Create offensive dataframe\n",
        "offensive = DataPrep(base_dir, 'offensive')\n",
        "offensive_dict_train, offensive_dict_val, offensive_dict_test = offensive.dataframe()\n",
        "df_offensive = offensive.dataframe_merge()\n",
        "not_offensive, offensive = offensive.binary_split()\n",
        "\n",
        "print(\"The sample of pre-precessed dataset is shown below:\")\n",
        "hate.head()"
      ],
      "execution_count": 3,
      "outputs": [
        {
          "output_type": "stream",
          "text": [
            "The sample of pre-precessed dataset is shown below:\n"
          ],
          "name": "stdout"
        },
        {
          "output_type": "execute_result",
          "data": {
            "text/html": [
              "<div>\n",
              "<style scoped>\n",
              "    .dataframe tbody tr th:only-of-type {\n",
              "        vertical-align: middle;\n",
              "    }\n",
              "\n",
              "    .dataframe tbody tr th {\n",
              "        vertical-align: top;\n",
              "    }\n",
              "\n",
              "    .dataframe thead th {\n",
              "        text-align: right;\n",
              "    }\n",
              "</style>\n",
              "<table border=\"1\" class=\"dataframe\">\n",
              "  <thead>\n",
              "    <tr style=\"text-align: right;\">\n",
              "      <th></th>\n",
              "      <th>text</th>\n",
              "      <th>label</th>\n",
              "    </tr>\n",
              "  </thead>\n",
              "  <tbody>\n",
              "    <tr>\n",
              "      <th>0</th>\n",
              "      <td>a woman who you fucked multiple times saying y...</td>\n",
              "      <td>1</td>\n",
              "    </tr>\n",
              "    <tr>\n",
              "      <th>1</th>\n",
              "      <td>real talk do you have eyes or were they gouge...</td>\n",
              "      <td>1</td>\n",
              "    </tr>\n",
              "    <tr>\n",
              "      <th>2</th>\n",
              "      <td>your girlfriend lookin at me like a groupie in...</td>\n",
              "      <td>1</td>\n",
              "    </tr>\n",
              "    <tr>\n",
              "      <th>3</th>\n",
              "      <td>i am not going after your ex bf you lieing sac...</td>\n",
              "      <td>1</td>\n",
              "    </tr>\n",
              "    <tr>\n",
              "      <th>4</th>\n",
              "      <td>send home migrants not in need of protection p...</td>\n",
              "      <td>1</td>\n",
              "    </tr>\n",
              "  </tbody>\n",
              "</table>\n",
              "</div>"
            ],
            "text/plain": [
              "                                                text  label\n",
              "0  a woman who you fucked multiple times saying y...      1\n",
              "1   real talk do you have eyes or were they gouge...      1\n",
              "2  your girlfriend lookin at me like a groupie in...      1\n",
              "3  i am not going after your ex bf you lieing sac...      1\n",
              "4  send home migrants not in need of protection p...      1"
            ]
          },
          "metadata": {
            "tags": []
          },
          "execution_count": 3
        }
      ]
    },
    {
      "cell_type": "markdown",
      "metadata": {
        "id": "l-jY5aKf6jfe"
      },
      "source": [
        "The samples in the datasets are imbalance, so we make the training dataset balanced using function \"imbalance_under_sampling\""
      ]
    },
    {
      "cell_type": "code",
      "metadata": {
        "id": "37tWMzto2zE1",
        "colab": {
          "base_uri": "https://localhost:8080/",
          "height": 271
        },
        "outputId": "e029bba5-aad9-4250-9aa8-345811a90bf8"
      },
      "source": [
        "Proportion_chart(df_hate,hate,not_hate,df_irony,irony,not_irony,df_offensive,offensive,not_offensive)"
      ],
      "execution_count": 4,
      "outputs": [
        {
          "output_type": "display_data",
          "data": {
            "image/png": "[encoded data removed]",
            "text/plain": [
              "<Figure size 1296x360 with 3 Axes>"
            ]
          },
          "metadata": {
            "tags": []
          }
        }
      ]
    },
    {
      "cell_type": "code",
      "metadata": {
        "id": "Cbnu5FmtMR1J"
      },
      "source": [
        "hate_dict_train = imbalance_under_sampling(hate_dict_train)\n",
        "irony_dict_train = imbalance_under_sampling(irony_dict_train)\n",
        "offensive_dict_train = imbalance_under_sampling(offensive_dict_train)"
      ],
      "execution_count": 5,
      "outputs": []
    },
    {
      "cell_type": "markdown",
      "metadata": {
        "id": "m56adpKPv0R0"
      },
      "source": [
        "#2.Downloading Models and Tokenizations from HuggingFace"
      ]
    },
    {
      "cell_type": "code",
      "metadata": {
        "id": "j_18embbHU9R",
        "colab": {
          "base_uri": "https://localhost:8080/",
          "height": 667,
          "referenced_widgets": [
            "2dc7e4fa27714de78cb7d6037e430264",
            "578268e5c0144909a29997d41ef71fbf",
            "8b52567ec59746c1b35a91126a3b5e15",
            "34cdec1e62c043178ee81dadf61411c6",
            "c2cc684ba7dd4e4c83845b5cb28bb5e9",
            "d138ff25cb6c4631a59c745e189236ee",
            "fe296fadde374b518977c7033820cf65",
            "25514533e3ac41a2ba7688d7110d5d7d",
            "c60b0b1df509466e8bae2848ca3fbf48",
            "c080b60456f04d2aa9808b0d626ff312",
            "4be8794f6994497e91353396ffd009e7",
            "6cd90f1c02a2435c8dd2ebb1e30b2bd4",
            "abc0dc265a4a42dc8aea16231812f9ac",
            "3ca406d838774be6827258a00b49f165",
            "8de65eb664a040e28b364d2e11f9d22c",
            "45024e137e8540e48731d0183f8a9a02",
            "200d1df3460c4b589959a133f879bf06",
            "89bf722a574c45ed9da423cf58f29614",
            "938d8de23e3f44c499e036089ff7ac42",
            "629e1c6e3f144a8cad0d4254f4222978",
            "131299be8e85476cb2f811ba0629aa2b",
            "2bbe7ce0250a4289850e1baafe3403fe",
            "0e4ccbec650c4379a58b3c70032311c7",
            "48341d9159914d8795b4403b3b23b0ac",
            "075f06b2abf24d818a0f8fcb8f30d655",
            "143d1e6a5494413eb7d5fa25cd85ab17",
            "df55fc9b8abd492292271f3cf9429f83",
            "2a2985d9590d4e9bbc871c9d83836b75",
            "cec1d4fb587e466eba5edfd5199242fd",
            "79c2ffc3756644c794a4cfbec53592e1",
            "8028fd39d9204d318570b445b5036fdb",
            "8fa08427ed9843568941c34b0bac0691",
            "28222eb5d5c44f51a2f88bb93801c923",
            "73dfccbdf44a4307a9842cf20b76bfdd",
            "30f073f2156a4237bd551289cd4c960b",
            "725ac34d287440c9a6b990426a4c5625",
            "9c64812e6d414435af0d7b8392166f76",
            "ae99cb140d634ffa8f3d08a9a14e271d",
            "771f7babefb74c25976a22ceacaf09e2",
            "577776f422204105b143254a0c6d6592",
            "4d112e2571194c259c290265c542c460",
            "e9d2bf79e1a04a0f920d5e2c2587d1bd",
            "45648403b5e44b139054942c2cfe5450",
            "bc31f30b783b47bc82da40e7f7d93c68",
            "05d54e0439dc4262b14117b61be35c50",
            "07e79610041e4985a327fb7fb2158b24",
            "9560a2cd201245249eb0c2f5a7bac9a9",
            "83f90f0fc89f4385ad289a5c621df183",
            "8dff1d40a9964265a32cf45dd5a05b69",
            "7e65eb82c75e4213821e95d32bc4a271",
            "ca7a8c9ea2684fa5a82f0274e30e39b1",
            "901b91073f4d44c4ad6ecb1a6da4d953",
            "5b5d9be9a6ee492c8fe36908d1a8ee78",
            "3aade6448bee498d80c74e6ba585f5cd",
            "98f1788c173a444b83d557c6a74da2af",
            "51a9fa1310204a6e8cccb1f2f6d91b4a",
            "5be3677fce5948bcbf5a33031e46a2a8",
            "a42fb7e47de1449caf923741be67ee26",
            "d4b7191d11ed4e14a37909f126abcc42",
            "8a7b5e29c0974e739f4dabc752984558",
            "b339fdd169a7426a9a8356dab0f67dec",
            "09aaee7013344bdfb6c5f50777d45129",
            "66b1a364eb174233808d175f103b6165",
            "1ce799c96c784ee49f933dbda7439ebf",
            "e0048b1bf2f04fbaaa41bab6d112e984",
            "157bd3fde3b14d04bbb89121edaaab3b",
            "ecde90a4d8624d71b037ad4f57fd79e1",
            "abfc7d4941db4f93aff29f02eec8118d",
            "e6a01e0f425e48e2818be4c7c5711d85",
            "42808a1cc5d843e7aab783e64b759b64",
            "48a54511398245418971ade5b48eed54",
            "62887e3a99064db0952b0af4d5da9968"
          ]
        },
        "outputId": "ce2d2496-bbc2-4983-8640-e3450b1f2261"
      },
      "source": [
        "from transformers import TFXLNetModel, XLNetTokenizer, TFDistilBertModel, DistilBertTokenizer\n",
        "\n",
        "xlnet_tokenizer = XLNetTokenizer.from_pretrained('xlnet-base-cased')\n",
        "xlnet_model = TFXLNetModel.from_pretrained('xlnet-base-cased')\n",
        "\n",
        "dbert_tokenizer = DistilBertTokenizer.from_pretrained('distilbert-base-uncased')\n",
        "dbert_model = TFDistilBertModel.from_pretrained('distilbert-base-uncased')\n",
        "\n",
        "for layer in xlnet_model.layers:\n",
        "    layer.trainable = True\n",
        "for layer in dbert_model.layers:\n",
        "    layer.trainable = True"
      ],
      "execution_count": 6,
      "outputs": [
        {
          "output_type": "display_data",
          "data": {
            "application/vnd.jupyter.widget-view+json": {
              "model_id": "2dc7e4fa27714de78cb7d6037e430264",
              "version_minor": 0,
              "version_major": 2
            },
            "text/plain": [
              "HBox(children=(FloatProgress(value=0.0, description='Downloading', max=798011.0, style=ProgressStyle(descripti…"
            ]
          },
          "metadata": {
            "tags": []
          }
        },
        {
          "output_type": "stream",
          "text": [
            "\n"
          ],
          "name": "stdout"
        },
        {
          "output_type": "display_data",
          "data": {
            "application/vnd.jupyter.widget-view+json": {
              "model_id": "c60b0b1df509466e8bae2848ca3fbf48",
              "version_minor": 0,
              "version_major": 2
            },
            "text/plain": [
              "HBox(children=(FloatProgress(value=0.0, description='Downloading', max=1382015.0, style=ProgressStyle(descript…"
            ]
          },
          "metadata": {
            "tags": []
          }
        },
        {
          "output_type": "stream",
          "text": [
            "\n"
          ],
          "name": "stdout"
        },
        {
          "output_type": "display_data",
          "data": {
            "application/vnd.jupyter.widget-view+json": {
              "model_id": "200d1df3460c4b589959a133f879bf06",
              "version_minor": 0,
              "version_major": 2
            },
            "text/plain": [
              "HBox(children=(FloatProgress(value=0.0, description='Downloading', max=760.0, style=ProgressStyle(description_…"
            ]
          },
          "metadata": {
            "tags": []
          }
        },
        {
          "output_type": "stream",
          "text": [
            "\n"
          ],
          "name": "stdout"
        },
        {
          "output_type": "display_data",
          "data": {
            "application/vnd.jupyter.widget-view+json": {
              "model_id": "075f06b2abf24d818a0f8fcb8f30d655",
              "version_minor": 0,
              "version_major": 2
            },
            "text/plain": [
              "HBox(children=(FloatProgress(value=0.0, description='Downloading', max=565485600.0, style=ProgressStyle(descri…"
            ]
          },
          "metadata": {
            "tags": []
          }
        },
        {
          "output_type": "stream",
          "text": [
            "\n"
          ],
          "name": "stdout"
        },
        {
          "output_type": "stream",
          "text": [
            "Some layers from the model checkpoint at xlnet-base-cased were not used when initializing TFXLNetModel: ['lm_loss']\n",
            "- This IS expected if you are initializing TFXLNetModel from the checkpoint of a model trained on another task or with another architecture (e.g. initializing a BertForSequenceClassification model from a BertForPreTraining model).\n",
            "- This IS NOT expected if you are initializing TFXLNetModel from the checkpoint of a model that you expect to be exactly identical (initializing a BertForSequenceClassification model from a BertForSequenceClassification model).\n",
            "All the layers of TFXLNetModel were initialized from the model checkpoint at xlnet-base-cased.\n",
            "If your task is similar to the task the model of the checkpoint was trained on, you can already use TFXLNetModel for predictions without further training.\n"
          ],
          "name": "stderr"
        },
        {
          "output_type": "display_data",
          "data": {
            "application/vnd.jupyter.widget-view+json": {
              "model_id": "28222eb5d5c44f51a2f88bb93801c923",
              "version_minor": 0,
              "version_major": 2
            },
            "text/plain": [
              "HBox(children=(FloatProgress(value=0.0, description='Downloading', max=231508.0, style=ProgressStyle(descripti…"
            ]
          },
          "metadata": {
            "tags": []
          }
        },
        {
          "output_type": "stream",
          "text": [
            "\n"
          ],
          "name": "stdout"
        },
        {
          "output_type": "display_data",
          "data": {
            "application/vnd.jupyter.widget-view+json": {
              "model_id": "4d112e2571194c259c290265c542c460",
              "version_minor": 0,
              "version_major": 2
            },
            "text/plain": [
              "HBox(children=(FloatProgress(value=0.0, description='Downloading', max=28.0, style=ProgressStyle(description_w…"
            ]
          },
          "metadata": {
            "tags": []
          }
        },
        {
          "output_type": "stream",
          "text": [
            "\n"
          ],
          "name": "stdout"
        },
        {
          "output_type": "display_data",
          "data": {
            "application/vnd.jupyter.widget-view+json": {
              "model_id": "8dff1d40a9964265a32cf45dd5a05b69",
              "version_minor": 0,
              "version_major": 2
            },
            "text/plain": [
              "HBox(children=(FloatProgress(value=0.0, description='Downloading', max=466062.0, style=ProgressStyle(descripti…"
            ]
          },
          "metadata": {
            "tags": []
          }
        },
        {
          "output_type": "stream",
          "text": [
            "\n"
          ],
          "name": "stdout"
        },
        {
          "output_type": "display_data",
          "data": {
            "application/vnd.jupyter.widget-view+json": {
              "model_id": "5be3677fce5948bcbf5a33031e46a2a8",
              "version_minor": 0,
              "version_major": 2
            },
            "text/plain": [
              "HBox(children=(FloatProgress(value=0.0, description='Downloading', max=442.0, style=ProgressStyle(description_…"
            ]
          },
          "metadata": {
            "tags": []
          }
        },
        {
          "output_type": "stream",
          "text": [
            "\n"
          ],
          "name": "stdout"
        },
        {
          "output_type": "display_data",
          "data": {
            "application/vnd.jupyter.widget-view+json": {
              "model_id": "e0048b1bf2f04fbaaa41bab6d112e984",
              "version_minor": 0,
              "version_major": 2
            },
            "text/plain": [
              "HBox(children=(FloatProgress(value=0.0, description='Downloading', max=363423424.0, style=ProgressStyle(descri…"
            ]
          },
          "metadata": {
            "tags": []
          }
        },
        {
          "output_type": "stream",
          "text": [
            "\n"
          ],
          "name": "stdout"
        },
        {
          "output_type": "stream",
          "text": [
            "Some layers from the model checkpoint at distilbert-base-uncased were not used when initializing TFDistilBertModel: ['vocab_layer_norm', 'vocab_projector', 'activation_13', 'vocab_transform']\n",
            "- This IS expected if you are initializing TFDistilBertModel from the checkpoint of a model trained on another task or with another architecture (e.g. initializing a BertForSequenceClassification model from a BertForPreTraining model).\n",
            "- This IS NOT expected if you are initializing TFDistilBertModel from the checkpoint of a model that you expect to be exactly identical (initializing a BertForSequenceClassification model from a BertForSequenceClassification model).\n",
            "All the layers of TFDistilBertModel were initialized from the model checkpoint at distilbert-base-uncased.\n",
            "If your task is similar to the task the model of the checkpoint was trained on, you can already use TFDistilBertModel for predictions without further training.\n"
          ],
          "name": "stderr"
        }
      ]
    },
    {
      "cell_type": "markdown",
      "metadata": {
        "id": "Rni4kvqHvD3X"
      },
      "source": [
        "#3.Word Embeddings using XLNet tokenizier, which consist of tokens and attention masks"
      ]
    },
    {
      "cell_type": "code",
      "metadata": {
        "id": "4LUW3oWeOYaA",
        "colab": {
          "base_uri": "https://localhost:8080/"
        },
        "outputId": "7e74beeb-e62a-4104-d94a-37b45eba56b7"
      },
      "source": [
        "#DistilBert Tokenizer\n",
        "dl_hate_train_input = get_tokenization(hate_dict_train['text'], dbert_tokenizer)\n",
        "dl_hate_val_input = get_tokenization(hate_dict_val['text'], dbert_tokenizer)\n",
        "dl_hate_test_input = get_tokenization(hate_dict_test['text'], dbert_tokenizer)\n",
        "\n",
        "dl_irony_train_input = get_tokenization(irony_dict_train['text'], dbert_tokenizer)\n",
        "dl_irony_val_input = get_tokenization(irony_dict_val['text'], dbert_tokenizer)\n",
        "dl_irony_test_input = get_tokenization(irony_dict_test['text'], dbert_tokenizer)\n",
        "\n",
        "dl_offensive_train_input = get_tokenization(offensive_dict_train['text'], dbert_tokenizer)\n",
        "dl_offensive_val_input = get_tokenization(offensive_dict_val['text'], dbert_tokenizer)\n",
        "dl_offensive_test_input = get_tokenization(offensive_dict_test['text'], dbert_tokenizer)\n",
        "\n",
        "#XLNet Tokenizer\n",
        "xl_hate_train_input = get_tokenization(hate_dict_train['text'], xlnet_tokenizer)\n",
        "xl_hate_val_input = get_tokenization(hate_dict_val['text'], xlnet_tokenizer)\n",
        "xl_hate_test_input = get_tokenization(hate_dict_test['text'], xlnet_tokenizer)\n",
        "\n",
        "xl_irony_train_input = get_tokenization(irony_dict_train['text'], xlnet_tokenizer)\n",
        "xl_irony_val_input = get_tokenization(irony_dict_val['text'], xlnet_tokenizer)\n",
        "xl_irony_test_input = get_tokenization(irony_dict_test['text'], xlnet_tokenizer)\n",
        "\n",
        "xl_offensive_train_input = get_tokenization(offensive_dict_train['text'], xlnet_tokenizer)\n",
        "xl_offensive_val_input = get_tokenization(offensive_dict_val['text'], xlnet_tokenizer)\n",
        "xl_offensive_test_input = get_tokenization(offensive_dict_test['text'], xlnet_tokenizer)"
      ],
      "execution_count": 7,
      "outputs": [
        {
          "output_type": "stream",
          "text": [
            "Truncation was not explicitly activated but `max_length` is provided a specific value, please use `truncation=True` to explicitly truncate examples to max length. Defaulting to 'longest_first' truncation strategy. If you encode pairs of sequences (GLUE-style) with the tokenizer you can select this strategy more precisely by providing a specific strategy to `truncation`.\n",
            "/usr/local/lib/python3.7/dist-packages/transformers/tokenization_utils_base.py:2132: FutureWarning: The `pad_to_max_length` argument is deprecated and will be removed in a future version, use `padding=True` or `padding='longest'` to pad to the longest sequence in the batch, or use `padding='max_length'` to pad to a max length. In this case, you can give a specific length with `max_length` (e.g. `max_length=45`) or leave max_length to None to pad to the maximal input size of the model (e.g. 512 for Bert).\n",
            "  FutureWarning,\n",
            "Truncation was not explicitly activated but `max_length` is provided a specific value, please use `truncation=True` to explicitly truncate examples to max length. Defaulting to 'longest_first' truncation strategy. If you encode pairs of sequences (GLUE-style) with the tokenizer you can select this strategy more precisely by providing a specific strategy to `truncation`.\n"
          ],
          "name": "stderr"
        }
      ]
    },
    {
      "cell_type": "markdown",
      "metadata": {
        "id": "4uhPp5NPva-C"
      },
      "source": [
        "#4.Apply DistilBert as the 1st model to predict classifcation.\n"
      ]
    },
    {
      "cell_type": "markdown",
      "metadata": {
        "id": "ZH6hffYs7kzr"
      },
      "source": [
        "4.1 DistilBert for Hate Dataset"
      ]
    },
    {
      "cell_type": "code",
      "metadata": {
        "colab": {
          "base_uri": "https://localhost:8080/"
        },
        "id": "WhKOF0i_HdE-",
        "outputId": "1ddaf009-c83c-4a6c-d7b5-ae236417b2c6"
      },
      "source": [
        "DistilBert_hate = create_model(dbert_model)\n",
        "DistilBert_hate.summary()"
      ],
      "execution_count": 8,
      "outputs": [
        {
          "output_type": "stream",
          "text": [
            "WARNING:tensorflow:The parameters `output_attentions`, `output_hidden_states` and `use_cache` cannot be updated when calling a model.They have to be set to True/False in the config object (i.e.: `config=XConfig.from_pretrained('name', output_attentions=True)`).\n",
            "WARNING:tensorflow:AutoGraph could not transform <bound method Socket.send of <zmq.sugar.socket.Socket object at 0x7fb50b237de0>> and will run it as-is.\n",
            "Please report this to the TensorFlow team. When filing the bug, set the verbosity to 10 (on Linux, `export AUTOGRAPH_VERBOSITY=10`) and attach the full output.\n",
            "Cause: module, class, method, function, traceback, frame, or code object was expected, got cython_function_or_method\n",
            "To silence this warning, decorate the function with @tf.autograph.experimental.do_not_convert\n",
            "WARNING: AutoGraph could not transform <bound method Socket.send of <zmq.sugar.socket.Socket object at 0x7fb50b237de0>> and will run it as-is.\n",
            "Please report this to the TensorFlow team. When filing the bug, set the verbosity to 10 (on Linux, `export AUTOGRAPH_VERBOSITY=10`) and attach the full output.\n",
            "Cause: module, class, method, function, traceback, frame, or code object was expected, got cython_function_or_method\n",
            "To silence this warning, decorate the function with @tf.autograph.experimental.do_not_convert\n",
            "WARNING:tensorflow:AutoGraph could not transform <function wrap at 0x7fb526ae0dd0> and will run it as-is.\n",
            "Cause: while/else statement not yet supported\n",
            "To silence this warning, decorate the function with @tf.autograph.experimental.do_not_convert\n",
            "WARNING: AutoGraph could not transform <function wrap at 0x7fb526ae0dd0> and will run it as-is.\n",
            "Cause: while/else statement not yet supported\n",
            "To silence this warning, decorate the function with @tf.autograph.experimental.do_not_convert\n",
            "WARNING:tensorflow:The parameter `return_dict` cannot be set in graph mode and will always be set to `True`.\n",
            "WARNING:tensorflow:From /usr/local/lib/python3.7/dist-packages/tensorflow/python/ops/array_ops.py:5049: calling gather (from tensorflow.python.ops.array_ops) with validate_indices is deprecated and will be removed in a future version.\n",
            "Instructions for updating:\n",
            "The `validate_indices` argument has no effect. Indices are always validated on CPU and never validated on GPU.\n",
            "Model: \"model\"\n",
            "__________________________________________________________________________________________________\n",
            "Layer (type)                    Output Shape         Param #     Connected to                     \n",
            "==================================================================================================\n",
            "word_ids (InputLayer)           [(None, 120)]        0                                            \n",
            "__________________________________________________________________________________________________\n",
            "word_attention (InputLayer)     [(None, 120)]        0                                            \n",
            "__________________________________________________________________________________________________\n",
            "tf_distil_bert_model (TFDistilB TFBaseModelOutput(la 66362880    word_ids[0][0]                   \n",
            "                                                                 word_attention[0][0]             \n",
            "__________________________________________________________________________________________________\n",
            "tf.__operators__.getitem (Slici (None, 1, 768)       0           tf_distil_bert_model[0][0]       \n",
            "__________________________________________________________________________________________________\n",
            "tf.compat.v1.squeeze (TFOpLambd (None, 768)          0           tf.__operators__.getitem[0][0]   \n",
            "__________________________________________________________________________________________________\n",
            "encoding (Dense)                (None, 32)           24608       tf.compat.v1.squeeze[0][0]       \n",
            "__________________________________________________________________________________________________\n",
            "dropout_56 (Dropout)            (None, 32)           0           encoding[0][0]                   \n",
            "__________________________________________________________________________________________________\n",
            "outputs (Dense)                 (None, 1)            33          dropout_56[0][0]                 \n",
            "==================================================================================================\n",
            "Total params: 66,387,521\n",
            "Trainable params: 66,387,521\n",
            "Non-trainable params: 0\n",
            "__________________________________________________________________________________________________\n"
          ],
          "name": "stdout"
        },
        {
          "output_type": "stream",
          "text": [
            "/usr/local/lib/python3.7/dist-packages/tensorflow/python/keras/optimizer_v2/optimizer_v2.py:375: UserWarning: The `lr` argument is deprecated, use `learning_rate` instead.\n",
            "  \"The `lr` argument is deprecated, use `learning_rate` instead.\")\n"
          ],
          "name": "stderr"
        }
      ]
    },
    {
      "cell_type": "markdown",
      "metadata": {
        "id": "yV7jZ6-MwFg0"
      },
      "source": [
        "Set callBacks for all attempts of training"
      ]
    },
    {
      "cell_type": "code",
      "metadata": {
        "id": "_WhwGNpZPVhV"
      },
      "source": [
        "callbacks = [\n",
        "    tf.keras.callbacks.EarlyStopping(monitor='loss', patience=4, min_delta=0.001, restore_best_weights=True),\n",
        "    tf.keras.callbacks.LearningRateScheduler(warmup, verbose=0),\n",
        "    tf.keras.callbacks.ReduceLROnPlateau(monitor='val_accuracy', factor=1e-6, patience=2, verbose=0, mode='auto', min_delta=0.001, cooldown=0, min_lr=1e-6)\n",
        "]"
      ],
      "execution_count": 9,
      "outputs": []
    },
    {
      "cell_type": "code",
      "metadata": {
        "colab": {
          "base_uri": "https://localhost:8080/"
        },
        "id": "wKcm9zTpPW6k",
        "outputId": "9f3e77b2-2480-4fde-95a8-bc5fb4350b2c"
      },
      "source": [
        "hist_dl_hate = DistilBert_hate.fit(x=dl_hate_train_input, y=hate_dict_train.label, epochs=25, batch_size=16, validation_data=(dl_hate_val_input, hate_dict_val.label), callbacks=callbacks)"
      ],
      "execution_count": 10,
      "outputs": [
        {
          "output_type": "stream",
          "text": [
            "Epoch 1/25\n",
            "WARNING:tensorflow:The parameters `output_attentions`, `output_hidden_states` and `use_cache` cannot be updated when calling a model.They have to be set to True/False in the config object (i.e.: `config=XConfig.from_pretrained('name', output_attentions=True)`).\n",
            "WARNING:tensorflow:The parameter `return_dict` cannot be set in graph mode and will always be set to `True`.\n",
            "WARNING:tensorflow:The parameters `output_attentions`, `output_hidden_states` and `use_cache` cannot be updated when calling a model.They have to be set to True/False in the config object (i.e.: `config=XConfig.from_pretrained('name', output_attentions=True)`).\n",
            "WARNING:tensorflow:The parameter `return_dict` cannot be set in graph mode and will always be set to `True`.\n",
            "473/473 [==============================] - ETA: 0s - loss: 0.5527 - accuracy: 0.7108 - precision: 0.7036 - recall: 0.7285WARNING:tensorflow:The parameters `output_attentions`, `output_hidden_states` and `use_cache` cannot be updated when calling a model.They have to be set to True/False in the config object (i.e.: `config=XConfig.from_pretrained('name', output_attentions=True)`).\n",
            "WARNING:tensorflow:The parameter `return_dict` cannot be set in graph mode and will always be set to `True`.\n",
            "473/473 [==============================] - 103s 202ms/step - loss: 0.5527 - accuracy: 0.7108 - precision: 0.7036 - recall: 0.7285 - val_loss: 0.5819 - val_accuracy: 0.7010 - val_precision: 0.6190 - val_recall: 0.7799\n",
            "Epoch 2/25\n",
            "473/473 [==============================] - 97s 206ms/step - loss: 0.3936 - accuracy: 0.8246 - precision: 0.8107 - recall: 0.8469 - val_loss: 0.5390 - val_accuracy: 0.7270 - val_precision: 0.6774 - val_recall: 0.6885\n",
            "Epoch 3/25\n",
            "473/473 [==============================] - 99s 209ms/step - loss: 0.2408 - accuracy: 0.9071 - precision: 0.8981 - recall: 0.9183 - val_loss: 0.7538 - val_accuracy: 0.7040 - val_precision: 0.6131 - val_recall: 0.8314\n",
            "Epoch 4/25\n",
            "473/473 [==============================] - 99s 209ms/step - loss: 0.1175 - accuracy: 0.9573 - precision: 0.9555 - recall: 0.9593 - val_loss: 0.7943 - val_accuracy: 0.7310 - val_precision: 0.6660 - val_recall: 0.7424\n",
            "Epoch 5/25\n",
            "473/473 [==============================] - 99s 208ms/step - loss: 0.0650 - accuracy: 0.9771 - precision: 0.9765 - recall: 0.9778 - val_loss: 1.0607 - val_accuracy: 0.7260 - val_precision: 0.6521 - val_recall: 0.7681\n",
            "Epoch 6/25\n",
            "473/473 [==============================] - 99s 208ms/step - loss: 0.0498 - accuracy: 0.9822 - precision: 0.9831 - recall: 0.9812 - val_loss: 1.5285 - val_accuracy: 0.6970 - val_precision: 0.6054 - val_recall: 0.8337\n",
            "Epoch 7/25\n",
            "473/473 [==============================] - 98s 208ms/step - loss: 0.0304 - accuracy: 0.9902 - precision: 0.9913 - recall: 0.9892 - val_loss: 1.4338 - val_accuracy: 0.7140 - val_precision: 0.6205 - val_recall: 0.8501\n",
            "Epoch 8/25\n",
            "473/473 [==============================] - 99s 208ms/step - loss: 0.0205 - accuracy: 0.9917 - precision: 0.9928 - recall: 0.9905 - val_loss: 1.4716 - val_accuracy: 0.7100 - val_precision: 0.6461 - val_recall: 0.7096\n",
            "Epoch 9/25\n",
            "473/473 [==============================] - 99s 208ms/step - loss: 0.0201 - accuracy: 0.9934 - precision: 0.9939 - recall: 0.9929 - val_loss: 1.3820 - val_accuracy: 0.7130 - val_precision: 0.6321 - val_recall: 0.7845\n",
            "Epoch 10/25\n",
            "473/473 [==============================] - 98s 208ms/step - loss: 0.0170 - accuracy: 0.9938 - precision: 0.9950 - recall: 0.9926 - val_loss: 1.5690 - val_accuracy: 0.7170 - val_precision: 0.6572 - val_recall: 0.7049\n",
            "Epoch 11/25\n",
            "473/473 [==============================] - 98s 208ms/step - loss: 0.0146 - accuracy: 0.9946 - precision: 0.9958 - recall: 0.9934 - val_loss: 1.4567 - val_accuracy: 0.7180 - val_precision: 0.6651 - val_recall: 0.6838\n",
            "Epoch 12/25\n",
            "473/473 [==============================] - 98s 208ms/step - loss: 0.0189 - accuracy: 0.9933 - precision: 0.9950 - recall: 0.9915 - val_loss: 1.5720 - val_accuracy: 0.7030 - val_precision: 0.6157 - val_recall: 0.8103\n",
            "Epoch 13/25\n",
            "473/473 [==============================] - 98s 208ms/step - loss: 0.0138 - accuracy: 0.9943 - precision: 0.9952 - recall: 0.9934 - val_loss: 1.3239 - val_accuracy: 0.7260 - val_precision: 0.6696 - val_recall: 0.7073\n",
            "Epoch 14/25\n",
            "473/473 [==============================] - 98s 208ms/step - loss: 0.0210 - accuracy: 0.9930 - precision: 0.9955 - recall: 0.9905 - val_loss: 1.5981 - val_accuracy: 0.7210 - val_precision: 0.6429 - val_recall: 0.7799\n",
            "Epoch 15/25\n",
            "473/473 [==============================] - 98s 208ms/step - loss: 0.0094 - accuracy: 0.9968 - precision: 0.9984 - recall: 0.9952 - val_loss: 1.7119 - val_accuracy: 0.7340 - val_precision: 0.6646 - val_recall: 0.7611\n",
            "Epoch 16/25\n",
            "473/473 [==============================] - 99s 208ms/step - loss: 0.0165 - accuracy: 0.9941 - precision: 0.9950 - recall: 0.9931 - val_loss: 1.5529 - val_accuracy: 0.7290 - val_precision: 0.6444 - val_recall: 0.8150\n",
            "Epoch 17/25\n",
            "473/473 [==============================] - 98s 208ms/step - loss: 0.0132 - accuracy: 0.9952 - precision: 0.9968 - recall: 0.9937 - val_loss: 1.7372 - val_accuracy: 0.7320 - val_precision: 0.6646 - val_recall: 0.7518\n",
            "Epoch 18/25\n",
            "473/473 [==============================] - 99s 208ms/step - loss: 0.0140 - accuracy: 0.9947 - precision: 0.9955 - recall: 0.9939 - val_loss: 1.4597 - val_accuracy: 0.7410 - val_precision: 0.6909 - val_recall: 0.7119\n",
            "Epoch 19/25\n",
            "473/473 [==============================] - 98s 208ms/step - loss: 0.0119 - accuracy: 0.9962 - precision: 0.9974 - recall: 0.9950 - val_loss: 1.6810 - val_accuracy: 0.7160 - val_precision: 0.6405 - val_recall: 0.7635\n"
          ],
          "name": "stdout"
        }
      ]
    },
    {
      "cell_type": "code",
      "metadata": {
        "colab": {
          "base_uri": "https://localhost:8080/"
        },
        "id": "-FsN50b505Ij",
        "outputId": "c758b161-2b27-44d5-bada-cb9c74f71ec4"
      },
      "source": [
        "preds_dl_hate = DistilBert_hate.predict(dl_hate_test_input, verbose=True)"
      ],
      "execution_count": 11,
      "outputs": [
        {
          "output_type": "stream",
          "text": [
            "WARNING:tensorflow:The parameters `output_attentions`, `output_hidden_states` and `use_cache` cannot be updated when calling a model.They have to be set to True/False in the config object (i.e.: `config=XConfig.from_pretrained('name', output_attentions=True)`).\n",
            "WARNING:tensorflow:The parameter `return_dict` cannot be set in graph mode and will always be set to `True`.\n",
            "93/93 [==============================] - 13s 124ms/step\n"
          ],
          "name": "stdout"
        }
      ]
    },
    {
      "cell_type": "code",
      "metadata": {
        "colab": {
          "base_uri": "https://localhost:8080/",
          "height": 467
        },
        "id": "HXaU8imwHI9u",
        "outputId": "a75c50e3-ebf8-49ac-dd22-fadfe7bcccbc"
      },
      "source": [
        "hate_pred_dl_label = [i[0] for i in preds_dl_hate.round().astype(int)]\n",
        "cm = confusion_matrix(hate_dict_test.label,hate_pred_dl_label)\n",
        "plot_confusion_matrix(cm, normalize=False,target_names=['Not_hate', 'Hate'],title=\"DistilBert Confusion Matrix for Hate\")"
      ],
      "execution_count": 12,
      "outputs": [
        {
          "output_type": "display_data",
          "data": {
            "image/png": "[encoded data removed]",
            "text/plain": [
              "<Figure size 576x432 with 2 Axes>"
            ]
          },
          "metadata": {
            "tags": [],
            "needs_background": "light"
          }
        }
      ]
    },
    {
      "cell_type": "code",
      "metadata": {
        "id": "T0yeLXBX2J1s",
        "colab": {
          "base_uri": "https://localhost:8080/"
        },
        "outputId": "48d70911-a02e-467e-9ba5-031984727c95"
      },
      "source": [
        "f1_dl_hate = f1_score(hate_dict_test.label,hate_pred_dl_label,average='macro')\n",
        "print(\"F1_score of Hate dataset with DistilBert is: %.1f%%\" % round(f1_dl_hate*100,1))"
      ],
      "execution_count": 13,
      "outputs": [
        {
          "output_type": "stream",
          "text": [
            "F1_score of Hate dataset with DistilBert is: 55.5%\n"
          ],
          "name": "stdout"
        }
      ]
    },
    {
      "cell_type": "markdown",
      "metadata": {
        "id": "p63rNrbl7vPq"
      },
      "source": [
        "4.2 DistilBert for Irony Dataset"
      ]
    },
    {
      "cell_type": "code",
      "metadata": {
        "colab": {
          "base_uri": "https://localhost:8080/"
        },
        "id": "q7rfxgAnHb-i",
        "outputId": "6445e40a-2bd5-40dc-ed2c-8aae29d168c7"
      },
      "source": [
        "DistilBert_irony = create_model(dbert_model)\n",
        "hist_irony = DistilBert_irony.fit(x=dl_irony_train_input, y=irony_dict_train.label, epochs=25, batch_size=16, validation_data=(dl_irony_val_input, irony_dict_val.label), callbacks=callbacks)"
      ],
      "execution_count": 14,
      "outputs": [
        {
          "output_type": "stream",
          "text": [
            "WARNING:tensorflow:The parameters `output_attentions`, `output_hidden_states` and `use_cache` cannot be updated when calling a model.They have to be set to True/False in the config object (i.e.: `config=XConfig.from_pretrained('name', output_attentions=True)`).\n",
            "WARNING:tensorflow:The parameter `return_dict` cannot be set in graph mode and will always be set to `True`.\n",
            "Epoch 1/25\n",
            "WARNING:tensorflow:The parameters `output_attentions`, `output_hidden_states` and `use_cache` cannot be updated when calling a model.They have to be set to True/False in the config object (i.e.: `config=XConfig.from_pretrained('name', output_attentions=True)`).\n",
            "WARNING:tensorflow:The parameter `return_dict` cannot be set in graph mode and will always be set to `True`.\n"
          ],
          "name": "stdout"
        },
        {
          "output_type": "stream",
          "text": [
            "/usr/local/lib/python3.7/dist-packages/tensorflow/python/keras/optimizer_v2/optimizer_v2.py:375: UserWarning: The `lr` argument is deprecated, use `learning_rate` instead.\n",
            "  \"The `lr` argument is deprecated, use `learning_rate` instead.\")\n"
          ],
          "name": "stderr"
        },
        {
          "output_type": "stream",
          "text": [
            "WARNING:tensorflow:The parameters `output_attentions`, `output_hidden_states` and `use_cache` cannot be updated when calling a model.They have to be set to True/False in the config object (i.e.: `config=XConfig.from_pretrained('name', output_attentions=True)`).\n",
            "WARNING:tensorflow:The parameter `return_dict` cannot be set in graph mode and will always be set to `True`.\n",
            "178/178 [==============================] - ETA: 0s - loss: 0.6940 - accuracy: 0.5614 - precision_1: 0.5602 - recall_1: 0.5709WARNING:tensorflow:The parameters `output_attentions`, `output_hidden_states` and `use_cache` cannot be updated when calling a model.They have to be set to True/False in the config object (i.e.: `config=XConfig.from_pretrained('name', output_attentions=True)`).\n",
            "WARNING:tensorflow:The parameter `return_dict` cannot be set in graph mode and will always be set to `True`.\n",
            "178/178 [==============================] - 48s 232ms/step - loss: 0.6940 - accuracy: 0.5614 - precision_1: 0.5602 - recall_1: 0.5709 - val_loss: 0.6834 - val_accuracy: 0.5654 - val_precision_1: 0.5284 - val_recall_1: 0.8377\n",
            "Epoch 2/25\n",
            "178/178 [==============================] - 39s 219ms/step - loss: 0.5569 - accuracy: 0.7191 - precision_1: 0.7122 - recall_1: 0.7354 - val_loss: 0.6619 - val_accuracy: 0.6335 - val_precision_1: 0.6137 - val_recall_1: 0.6272\n",
            "Epoch 3/25\n",
            "178/178 [==============================] - 39s 220ms/step - loss: 0.3467 - accuracy: 0.8557 - precision_1: 0.8663 - recall_1: 0.8412 - val_loss: 0.7816 - val_accuracy: 0.6241 - val_precision_1: 0.5821 - val_recall_1: 0.7544\n",
            "Epoch 4/25\n",
            "178/178 [==============================] - 39s 220ms/step - loss: 0.1503 - accuracy: 0.9457 - precision_1: 0.9514 - recall_1: 0.9393 - val_loss: 0.9984 - val_accuracy: 0.6325 - val_precision_1: 0.5854 - val_recall_1: 0.7895\n",
            "Epoch 5/25\n",
            "178/178 [==============================] - 39s 220ms/step - loss: 0.0528 - accuracy: 0.9873 - precision_1: 0.9873 - recall_1: 0.9873 - val_loss: 1.2184 - val_accuracy: 0.6325 - val_precision_1: 0.5985 - val_recall_1: 0.6996\n",
            "Epoch 6/25\n",
            "178/178 [==============================] - 39s 221ms/step - loss: 0.0293 - accuracy: 0.9922 - precision_1: 0.9915 - recall_1: 0.9929 - val_loss: 1.3023 - val_accuracy: 0.6586 - val_precision_1: 0.6512 - val_recall_1: 0.6140\n",
            "Epoch 7/25\n",
            "178/178 [==============================] - 39s 220ms/step - loss: 0.0252 - accuracy: 0.9944 - precision_1: 0.9965 - recall_1: 0.9922 - val_loss: 1.4710 - val_accuracy: 0.6576 - val_precision_1: 0.6393 - val_recall_1: 0.6491\n",
            "Epoch 8/25\n",
            "178/178 [==============================] - 39s 220ms/step - loss: 0.0391 - accuracy: 0.9894 - precision_1: 0.9901 - recall_1: 0.9887 - val_loss: 1.3700 - val_accuracy: 0.6743 - val_precision_1: 0.6533 - val_recall_1: 0.6776\n",
            "Epoch 9/25\n",
            "178/178 [==============================] - 39s 220ms/step - loss: 0.0301 - accuracy: 0.9908 - precision_1: 0.9929 - recall_1: 0.9887 - val_loss: 1.3792 - val_accuracy: 0.6607 - val_precision_1: 0.6294 - val_recall_1: 0.7039\n",
            "Epoch 10/25\n",
            "178/178 [==============================] - 39s 220ms/step - loss: 0.0184 - accuracy: 0.9965 - precision_1: 0.9965 - recall_1: 0.9965 - val_loss: 1.5232 - val_accuracy: 0.6513 - val_precision_1: 0.6279 - val_recall_1: 0.6623\n",
            "Epoch 11/25\n",
            "178/178 [==============================] - 39s 220ms/step - loss: 0.0136 - accuracy: 0.9965 - precision_1: 0.9965 - recall_1: 0.9965 - val_loss: 1.6088 - val_accuracy: 0.6607 - val_precision_1: 0.6447 - val_recall_1: 0.6447\n",
            "Epoch 12/25\n",
            "178/178 [==============================] - 39s 219ms/step - loss: 0.0156 - accuracy: 0.9944 - precision_1: 0.9958 - recall_1: 0.9929 - val_loss: 1.7197 - val_accuracy: 0.6565 - val_precision_1: 0.6212 - val_recall_1: 0.7193\n",
            "Epoch 13/25\n",
            "178/178 [==============================] - 39s 219ms/step - loss: 0.0169 - accuracy: 0.9961 - precision_1: 0.9979 - recall_1: 0.9944 - val_loss: 1.7980 - val_accuracy: 0.6366 - val_precision_1: 0.5971 - val_recall_1: 0.7346\n",
            "Epoch 14/25\n",
            "178/178 [==============================] - 39s 219ms/step - loss: 0.0072 - accuracy: 0.9982 - precision_1: 0.9993 - recall_1: 0.9972 - val_loss: 1.8835 - val_accuracy: 0.6597 - val_precision_1: 0.6267 - val_recall_1: 0.7105\n",
            "Epoch 15/25\n",
            "178/178 [==============================] - 39s 220ms/step - loss: 0.0175 - accuracy: 0.9944 - precision_1: 0.9958 - recall_1: 0.9929 - val_loss: 1.9385 - val_accuracy: 0.6230 - val_precision_1: 0.5854 - val_recall_1: 0.7215\n",
            "Epoch 16/25\n",
            "178/178 [==============================] - 39s 220ms/step - loss: 0.0218 - accuracy: 0.9922 - precision_1: 0.9943 - recall_1: 0.9901 - val_loss: 1.6392 - val_accuracy: 0.6618 - val_precision_1: 0.6488 - val_recall_1: 0.6360\n",
            "Epoch 17/25\n",
            "178/178 [==============================] - 39s 220ms/step - loss: 0.0096 - accuracy: 0.9972 - precision_1: 0.9993 - recall_1: 0.9951 - val_loss: 1.8038 - val_accuracy: 0.6492 - val_precision_1: 0.6184 - val_recall_1: 0.6930\n",
            "Epoch 18/25\n",
            "178/178 [==============================] - 39s 220ms/step - loss: 0.0135 - accuracy: 0.9954 - precision_1: 0.9958 - recall_1: 0.9951 - val_loss: 1.7439 - val_accuracy: 0.6607 - val_precision_1: 0.6610 - val_recall_1: 0.5943\n"
          ],
          "name": "stdout"
        }
      ]
    },
    {
      "cell_type": "code",
      "metadata": {
        "colab": {
          "base_uri": "https://localhost:8080/"
        },
        "id": "UTwy1LkDHooF",
        "outputId": "e894ca8b-c1ba-4c1a-80eb-a09ce2129c7b"
      },
      "source": [
        "preds_dl_irony = DistilBert_irony.predict(dl_irony_test_input, verbose=True)"
      ],
      "execution_count": 15,
      "outputs": [
        {
          "output_type": "stream",
          "text": [
            "WARNING:tensorflow:The parameters `output_attentions`, `output_hidden_states` and `use_cache` cannot be updated when calling a model.They have to be set to True/False in the config object (i.e.: `config=XConfig.from_pretrained('name', output_attentions=True)`).\n",
            "WARNING:tensorflow:The parameter `return_dict` cannot be set in graph mode and will always be set to `True`.\n",
            "25/25 [==============================] - 4s 123ms/step\n"
          ],
          "name": "stdout"
        }
      ]
    },
    {
      "cell_type": "code",
      "metadata": {
        "colab": {
          "base_uri": "https://localhost:8080/",
          "height": 467
        },
        "id": "6yanVWo7Hpz1",
        "outputId": "7ac8c86a-6a3e-4a9c-8472-9db8d5453e99"
      },
      "source": [
        "irony_pred_dl_label = [i[0] for i in preds_dl_irony.round().astype(int)]\n",
        "cm = confusion_matrix(irony_dict_test.label,irony_pred_dl_label)\n",
        "plot_confusion_matrix(cm, normalize=False,target_names=['Not_irony', 'Irony'],title=\"DistilBert Confusion Matrix for Irony\")"
      ],
      "execution_count": 16,
      "outputs": [
        {
          "output_type": "display_data",
          "data": {
            "image/png": "[encoded data removed]",
            "text/plain": [
              "<Figure size 576x432 with 2 Axes>"
            ]
          },
          "metadata": {
            "tags": [],
            "needs_background": "light"
          }
        }
      ]
    },
    {
      "cell_type": "code",
      "metadata": {
        "id": "2gCT8T532GxO",
        "colab": {
          "base_uri": "https://localhost:8080/"
        },
        "outputId": "2b047ee1-df12-469e-cd2f-2e275b41cdbf"
      },
      "source": [
        "f1_dl_irony = f1_score(irony_dict_test.label,irony_pred_dl_label,average='macro')\n",
        "print(\"F1_score of irony dataset with DistilBert is: %.1f%%\" % round(f1_dl_irony*100,1))"
      ],
      "execution_count": 17,
      "outputs": [
        {
          "output_type": "stream",
          "text": [
            "F1_score of irony dataset with DistilBert is: 62.6%\n"
          ],
          "name": "stdout"
        }
      ]
    },
    {
      "cell_type": "markdown",
      "metadata": {
        "id": "RDKaYpjC7ybo"
      },
      "source": [
        "4.3 DistilBert for Offensive Dataset"
      ]
    },
    {
      "cell_type": "code",
      "metadata": {
        "colab": {
          "base_uri": "https://localhost:8080/"
        },
        "id": "E0IDd7q5RM58",
        "outputId": "bce5f502-8460-4af6-c07e-62895a5bfc96"
      },
      "source": [
        "DistilBert_offensive = create_model(dbert_model)\n",
        "hist_dl_offensive = DistilBert_offensive.fit(x=dl_offensive_train_input, y=offensive_dict_train.label, epochs=25, batch_size=16, validation_data=(dl_offensive_val_input, offensive_dict_val.label), callbacks=callbacks)"
      ],
      "execution_count": 18,
      "outputs": [
        {
          "output_type": "stream",
          "text": [
            "WARNING:tensorflow:The parameters `output_attentions`, `output_hidden_states` and `use_cache` cannot be updated when calling a model.They have to be set to True/False in the config object (i.e.: `config=XConfig.from_pretrained('name', output_attentions=True)`).\n",
            "WARNING:tensorflow:The parameter `return_dict` cannot be set in graph mode and will always be set to `True`.\n",
            "Epoch 1/25\n",
            "WARNING:tensorflow:The parameters `output_attentions`, `output_hidden_states` and `use_cache` cannot be updated when calling a model.They have to be set to True/False in the config object (i.e.: `config=XConfig.from_pretrained('name', output_attentions=True)`).\n",
            "WARNING:tensorflow:The parameter `return_dict` cannot be set in graph mode and will always be set to `True`.\n"
          ],
          "name": "stdout"
        },
        {
          "output_type": "stream",
          "text": [
            "/usr/local/lib/python3.7/dist-packages/tensorflow/python/keras/optimizer_v2/optimizer_v2.py:375: UserWarning: The `lr` argument is deprecated, use `learning_rate` instead.\n",
            "  \"The `lr` argument is deprecated, use `learning_rate` instead.\")\n"
          ],
          "name": "stderr"
        },
        {
          "output_type": "stream",
          "text": [
            "WARNING:tensorflow:The parameters `output_attentions`, `output_hidden_states` and `use_cache` cannot be updated when calling a model.They have to be set to True/False in the config object (i.e.: `config=XConfig.from_pretrained('name', output_attentions=True)`).\n",
            "WARNING:tensorflow:The parameter `return_dict` cannot be set in graph mode and will always be set to `True`.\n",
            "493/493 [==============================] - ETA: 0s - loss: 0.5704 - accuracy: 0.7063 - precision_2: 0.7025 - recall_2: 0.7156WARNING:tensorflow:The parameters `output_attentions`, `output_hidden_states` and `use_cache` cannot be updated when calling a model.They have to be set to True/False in the config object (i.e.: `config=XConfig.from_pretrained('name', output_attentions=True)`).\n",
            "WARNING:tensorflow:The parameter `return_dict` cannot be set in graph mode and will always be set to `True`.\n",
            "493/493 [==============================] - 112s 213ms/step - loss: 0.5704 - accuracy: 0.7063 - precision_2: 0.7025 - recall_2: 0.7156 - val_loss: 0.4715 - val_accuracy: 0.7787 - val_precision_2: 0.6701 - val_recall_2: 0.7124\n",
            "Epoch 2/25\n",
            "493/493 [==============================] - 104s 210ms/step - loss: 0.4166 - accuracy: 0.8120 - precision_2: 0.8175 - recall_2: 0.8033 - val_loss: 0.5436 - val_accuracy: 0.7628 - val_precision_2: 0.6256 - val_recall_2: 0.7865\n",
            "Epoch 3/25\n",
            "493/493 [==============================] - 104s 211ms/step - loss: 0.2739 - accuracy: 0.8839 - precision_2: 0.8836 - recall_2: 0.8843 - val_loss: 0.5640 - val_accuracy: 0.7598 - val_precision_2: 0.6279 - val_recall_2: 0.7538\n",
            "Epoch 4/25\n",
            "493/493 [==============================] - 104s 210ms/step - loss: 0.1328 - accuracy: 0.9501 - precision_2: 0.9482 - recall_2: 0.9523 - val_loss: 0.8044 - val_accuracy: 0.7523 - val_precision_2: 0.6313 - val_recall_2: 0.6863\n",
            "Epoch 5/25\n",
            "493/493 [==============================] - 104s 210ms/step - loss: 0.0764 - accuracy: 0.9730 - precision_2: 0.9719 - recall_2: 0.9741 - val_loss: 1.1538 - val_accuracy: 0.7205 - val_precision_2: 0.5673 - val_recall_2: 0.8170\n",
            "Epoch 6/25\n",
            "493/493 [==============================] - 104s 210ms/step - loss: 0.0487 - accuracy: 0.9825 - precision_2: 0.9822 - recall_2: 0.9827 - val_loss: 1.0914 - val_accuracy: 0.7538 - val_precision_2: 0.6267 - val_recall_2: 0.7168\n",
            "Epoch 7/25\n",
            "493/493 [==============================] - 103s 210ms/step - loss: 0.0407 - accuracy: 0.9845 - precision_2: 0.9843 - recall_2: 0.9848 - val_loss: 1.2425 - val_accuracy: 0.7553 - val_precision_2: 0.6154 - val_recall_2: 0.7843\n",
            "Epoch 8/25\n",
            "493/493 [==============================] - 104s 210ms/step - loss: 0.0292 - accuracy: 0.9901 - precision_2: 0.9901 - recall_2: 0.9901 - val_loss: 1.3330 - val_accuracy: 0.7492 - val_precision_2: 0.6053 - val_recall_2: 0.7952\n",
            "Epoch 9/25\n",
            "493/493 [==============================] - 104s 210ms/step - loss: 0.0333 - accuracy: 0.9887 - precision_2: 0.9876 - recall_2: 0.9899 - val_loss: 1.3874 - val_accuracy: 0.7364 - val_precision_2: 0.5857 - val_recall_2: 0.8192\n",
            "Epoch 10/25\n",
            "493/493 [==============================] - 104s 210ms/step - loss: 0.0259 - accuracy: 0.9904 - precision_2: 0.9904 - recall_2: 0.9904 - val_loss: 1.4914 - val_accuracy: 0.7334 - val_precision_2: 0.5818 - val_recall_2: 0.8214\n",
            "Epoch 11/25\n",
            "493/493 [==============================] - 103s 210ms/step - loss: 0.0250 - accuracy: 0.9909 - precision_2: 0.9904 - recall_2: 0.9914 - val_loss: 1.2340 - val_accuracy: 0.7341 - val_precision_2: 0.5812 - val_recall_2: 0.8344\n",
            "Epoch 12/25\n",
            "493/493 [==============================] - 104s 210ms/step - loss: 0.0195 - accuracy: 0.9929 - precision_2: 0.9926 - recall_2: 0.9931 - val_loss: 1.6173 - val_accuracy: 0.7334 - val_precision_2: 0.5823 - val_recall_2: 0.8170\n",
            "Epoch 13/25\n",
            "493/493 [==============================] - 104s 210ms/step - loss: 0.0169 - accuracy: 0.9930 - precision_2: 0.9929 - recall_2: 0.9931 - val_loss: 1.7718 - val_accuracy: 0.7168 - val_precision_2: 0.5602 - val_recall_2: 0.8519\n",
            "Epoch 14/25\n",
            "493/493 [==============================] - 103s 210ms/step - loss: 0.0215 - accuracy: 0.9924 - precision_2: 0.9924 - recall_2: 0.9924 - val_loss: 1.3809 - val_accuracy: 0.7666 - val_precision_2: 0.6556 - val_recall_2: 0.6885\n",
            "Epoch 15/25\n",
            "493/493 [==============================] - 104s 210ms/step - loss: 0.0168 - accuracy: 0.9938 - precision_2: 0.9932 - recall_2: 0.9944 - val_loss: 1.4692 - val_accuracy: 0.7651 - val_precision_2: 0.6429 - val_recall_2: 0.7255\n",
            "Epoch 16/25\n",
            "493/493 [==============================] - 104s 210ms/step - loss: 0.0203 - accuracy: 0.9920 - precision_2: 0.9914 - recall_2: 0.9926 - val_loss: 1.2862 - val_accuracy: 0.7696 - val_precision_2: 0.6689 - val_recall_2: 0.6645\n",
            "Epoch 17/25\n",
            "493/493 [==============================] - 104s 211ms/step - loss: 0.0163 - accuracy: 0.9945 - precision_2: 0.9947 - recall_2: 0.9944 - val_loss: 1.5396 - val_accuracy: 0.7598 - val_precision_2: 0.6599 - val_recall_2: 0.6340\n"
          ],
          "name": "stdout"
        }
      ]
    },
    {
      "cell_type": "code",
      "metadata": {
        "colab": {
          "base_uri": "https://localhost:8080/"
        },
        "id": "0JZnQOGSRYay",
        "outputId": "fcaa7c89-3567-4c30-894b-7bcd108b8fbe"
      },
      "source": [
        "preds_dl_offensive = DistilBert_offensive.predict(dl_offensive_test_input, verbose=True)"
      ],
      "execution_count": 19,
      "outputs": [
        {
          "output_type": "stream",
          "text": [
            "WARNING:tensorflow:The parameters `output_attentions`, `output_hidden_states` and `use_cache` cannot be updated when calling a model.They have to be set to True/False in the config object (i.e.: `config=XConfig.from_pretrained('name', output_attentions=True)`).\n",
            "WARNING:tensorflow:The parameter `return_dict` cannot be set in graph mode and will always be set to `True`.\n",
            "27/27 [==============================] - 5s 125ms/step\n"
          ],
          "name": "stdout"
        }
      ]
    },
    {
      "cell_type": "code",
      "metadata": {
        "colab": {
          "base_uri": "https://localhost:8080/",
          "height": 467
        },
        "id": "hVZI2SRnResz",
        "outputId": "31b97a8e-dc04-4bdb-9512-309e36d1a969"
      },
      "source": [
        "offensive_pred_dl_label = [i[0] for i in preds_dl_offensive.round().astype(int)]\n",
        "cm = confusion_matrix(offensive_dict_test.label,offensive_pred_dl_label)\n",
        "plot_confusion_matrix(cm, normalize=False, target_names=['Not_offensive', 'Offensive'],title=\"DistilBert Confusion Matrix for Offensive\")"
      ],
      "execution_count": 20,
      "outputs": [
        {
          "output_type": "display_data",
          "data": {
            "image/png": "[encoded data removed]",
            "text/plain": [
              "<Figure size 576x432 with 2 Axes>"
            ]
          },
          "metadata": {
            "tags": [],
            "needs_background": "light"
          }
        }
      ]
    },
    {
      "cell_type": "code",
      "metadata": {
        "id": "6cdfLTYk17iF",
        "colab": {
          "base_uri": "https://localhost:8080/"
        },
        "outputId": "d334ec6c-74aa-430c-d711-0c14b20f9567"
      },
      "source": [
        "f1_dl_offensive = f1_score(offensive_dict_test.label,offensive_pred_dl_label,average='macro')\n",
        "print(\"F1_score of offensive dataset with DistilBert is: %.1f%%\" % round(f1_dl_offensive*100,1))"
      ],
      "execution_count": 21,
      "outputs": [
        {
          "output_type": "stream",
          "text": [
            "F1_score of offensive dataset with DistilBert is: 71.8%\n"
          ],
          "name": "stdout"
        }
      ]
    },
    {
      "cell_type": "markdown",
      "metadata": {
        "id": "toeItPapUByt"
      },
      "source": [
        "#5. Apply XLNet as the 2nd model to predict classifcation."
      ]
    },
    {
      "cell_type": "markdown",
      "metadata": {
        "id": "wX2G8j857_Jw"
      },
      "source": [
        "5.1 XLnet for Hate Dataset"
      ]
    },
    {
      "cell_type": "code",
      "metadata": {
        "colab": {
          "base_uri": "https://localhost:8080/"
        },
        "id": "MpMxeYhzT-NW",
        "outputId": "d9d36796-09eb-4b88-9f0b-f8172324318c"
      },
      "source": [
        "XLNet_hate = create_model(xlnet_model)\n",
        "XLNet_hate.summary()"
      ],
      "execution_count": 22,
      "outputs": [
        {
          "output_type": "stream",
          "text": [
            "WARNING:tensorflow:The parameters `output_attentions`, `output_hidden_states` and `use_cache` cannot be updated when calling a model.They have to be set to True/False in the config object (i.e.: `config=XConfig.from_pretrained('name', output_attentions=True)`).\n",
            "WARNING:tensorflow:The parameter `return_dict` cannot be set in graph mode and will always be set to `True`.\n",
            "Model: \"model_3\"\n",
            "__________________________________________________________________________________________________\n",
            "Layer (type)                    Output Shape         Param #     Connected to                     \n",
            "==================================================================================================\n",
            "word_ids (InputLayer)           [(None, 120)]        0                                            \n",
            "__________________________________________________________________________________________________\n",
            "word_attention (InputLayer)     [(None, 120)]        0                                            \n",
            "__________________________________________________________________________________________________\n",
            "tfxl_net_model (TFXLNetModel)   TFXLNetModelOutput(l 116718336   word_ids[0][0]                   \n",
            "                                                                 word_attention[0][0]             \n",
            "__________________________________________________________________________________________________\n",
            "tf.__operators__.getitem_3 (Sli (None, 1, 768)       0           tfxl_net_model[0][0]             \n",
            "__________________________________________________________________________________________________\n",
            "tf.compat.v1.squeeze_3 (TFOpLam (None, 768)          0           tf.__operators__.getitem_3[0][0] \n",
            "__________________________________________________________________________________________________\n",
            "encoding (Dense)                (None, 32)           24608       tf.compat.v1.squeeze_3[0][0]     \n",
            "__________________________________________________________________________________________________\n",
            "dropout_59 (Dropout)            (None, 32)           0           encoding[0][0]                   \n",
            "__________________________________________________________________________________________________\n",
            "outputs (Dense)                 (None, 1)            33          dropout_59[0][0]                 \n",
            "==================================================================================================\n",
            "Total params: 116,742,977\n",
            "Trainable params: 116,742,977\n",
            "Non-trainable params: 0\n",
            "__________________________________________________________________________________________________\n"
          ],
          "name": "stdout"
        },
        {
          "output_type": "stream",
          "text": [
            "/usr/local/lib/python3.7/dist-packages/tensorflow/python/keras/optimizer_v2/optimizer_v2.py:375: UserWarning: The `lr` argument is deprecated, use `learning_rate` instead.\n",
            "  \"The `lr` argument is deprecated, use `learning_rate` instead.\")\n"
          ],
          "name": "stderr"
        }
      ]
    },
    {
      "cell_type": "code",
      "metadata": {
        "colab": {
          "base_uri": "https://localhost:8080/"
        },
        "id": "6bDNJJUjTgnK",
        "outputId": "1d4b4577-54e0-4e93-c5e4-5c9fef58f27c"
      },
      "source": [
        "hist_xl_hate = XLNet_hate.fit(x=xl_hate_train_input, y=hate_dict_train.label, epochs=25, batch_size=16, validation_data=(xl_hate_val_input, hate_dict_val.label), callbacks=callbacks)"
      ],
      "execution_count": 23,
      "outputs": [
        {
          "output_type": "stream",
          "text": [
            "Epoch 1/25\n",
            "WARNING:tensorflow:The parameters `output_attentions`, `output_hidden_states` and `use_cache` cannot be updated when calling a model.They have to be set to True/False in the config object (i.e.: `config=XConfig.from_pretrained('name', output_attentions=True)`).\n",
            "WARNING:tensorflow:The parameter `return_dict` cannot be set in graph mode and will always be set to `True`.\n",
            "WARNING:tensorflow:Gradients do not exist for variables ['tfxl_net_model/transformer/mask_emb:0', 'tfxl_net_model/transformer/layer_._0/rel_attn/r_s_bias:0', 'tfxl_net_model/transformer/layer_._0/rel_attn/seg_embed:0', 'tfxl_net_model/transformer/layer_._1/rel_attn/r_s_bias:0', 'tfxl_net_model/transformer/layer_._1/rel_attn/seg_embed:0', 'tfxl_net_model/transformer/layer_._2/rel_attn/r_s_bias:0', 'tfxl_net_model/transformer/layer_._2/rel_attn/seg_embed:0', 'tfxl_net_model/transformer/layer_._3/rel_attn/r_s_bias:0', 'tfxl_net_model/transformer/layer_._3/rel_attn/seg_embed:0', 'tfxl_net_model/transformer/layer_._4/rel_attn/r_s_bias:0', 'tfxl_net_model/transformer/layer_._4/rel_attn/seg_embed:0', 'tfxl_net_model/transformer/layer_._5/rel_attn/r_s_bias:0', 'tfxl_net_model/transformer/layer_._5/rel_attn/seg_embed:0', 'tfxl_net_model/transformer/layer_._6/rel_attn/r_s_bias:0', 'tfxl_net_model/transformer/layer_._6/rel_attn/seg_embed:0', 'tfxl_net_model/transformer/layer_._7/rel_attn/r_s_bias:0', 'tfxl_net_model/transformer/layer_._7/rel_attn/seg_embed:0', 'tfxl_net_model/transformer/layer_._8/rel_attn/r_s_bias:0', 'tfxl_net_model/transformer/layer_._8/rel_attn/seg_embed:0', 'tfxl_net_model/transformer/layer_._9/rel_attn/r_s_bias:0', 'tfxl_net_model/transformer/layer_._9/rel_attn/seg_embed:0', 'tfxl_net_model/transformer/layer_._10/rel_attn/r_s_bias:0', 'tfxl_net_model/transformer/layer_._10/rel_attn/seg_embed:0', 'tfxl_net_model/transformer/layer_._11/rel_attn/r_s_bias:0', 'tfxl_net_model/transformer/layer_._11/rel_attn/seg_embed:0'] when minimizing the loss.\n",
            "WARNING:tensorflow:The parameters `output_attentions`, `output_hidden_states` and `use_cache` cannot be updated when calling a model.They have to be set to True/False in the config object (i.e.: `config=XConfig.from_pretrained('name', output_attentions=True)`).\n",
            "WARNING:tensorflow:The parameter `return_dict` cannot be set in graph mode and will always be set to `True`.\n",
            "WARNING:tensorflow:Gradients do not exist for variables ['tfxl_net_model/transformer/mask_emb:0', 'tfxl_net_model/transformer/layer_._0/rel_attn/r_s_bias:0', 'tfxl_net_model/transformer/layer_._0/rel_attn/seg_embed:0', 'tfxl_net_model/transformer/layer_._1/rel_attn/r_s_bias:0', 'tfxl_net_model/transformer/layer_._1/rel_attn/seg_embed:0', 'tfxl_net_model/transformer/layer_._2/rel_attn/r_s_bias:0', 'tfxl_net_model/transformer/layer_._2/rel_attn/seg_embed:0', 'tfxl_net_model/transformer/layer_._3/rel_attn/r_s_bias:0', 'tfxl_net_model/transformer/layer_._3/rel_attn/seg_embed:0', 'tfxl_net_model/transformer/layer_._4/rel_attn/r_s_bias:0', 'tfxl_net_model/transformer/layer_._4/rel_attn/seg_embed:0', 'tfxl_net_model/transformer/layer_._5/rel_attn/r_s_bias:0', 'tfxl_net_model/transformer/layer_._5/rel_attn/seg_embed:0', 'tfxl_net_model/transformer/layer_._6/rel_attn/r_s_bias:0', 'tfxl_net_model/transformer/layer_._6/rel_attn/seg_embed:0', 'tfxl_net_model/transformer/layer_._7/rel_attn/r_s_bias:0', 'tfxl_net_model/transformer/layer_._7/rel_attn/seg_embed:0', 'tfxl_net_model/transformer/layer_._8/rel_attn/r_s_bias:0', 'tfxl_net_model/transformer/layer_._8/rel_attn/seg_embed:0', 'tfxl_net_model/transformer/layer_._9/rel_attn/r_s_bias:0', 'tfxl_net_model/transformer/layer_._9/rel_attn/seg_embed:0', 'tfxl_net_model/transformer/layer_._10/rel_attn/r_s_bias:0', 'tfxl_net_model/transformer/layer_._10/rel_attn/seg_embed:0', 'tfxl_net_model/transformer/layer_._11/rel_attn/r_s_bias:0', 'tfxl_net_model/transformer/layer_._11/rel_attn/seg_embed:0'] when minimizing the loss.\n",
            "473/473 [==============================] - ETA: 0s - loss: 0.6448 - accuracy: 0.6420 - precision_3: 0.6418 - recall_3: 0.6426WARNING:tensorflow:The parameters `output_attentions`, `output_hidden_states` and `use_cache` cannot be updated when calling a model.They have to be set to True/False in the config object (i.e.: `config=XConfig.from_pretrained('name', output_attentions=True)`).\n",
            "WARNING:tensorflow:The parameter `return_dict` cannot be set in graph mode and will always be set to `True`.\n",
            "473/473 [==============================] - 258s 519ms/step - loss: 0.6448 - accuracy: 0.6420 - precision_3: 0.6418 - recall_3: 0.6426 - val_loss: 0.6155 - val_accuracy: 0.6790 - val_precision_3: 0.6113 - val_recall_3: 0.6815\n",
            "Epoch 2/25\n",
            "473/473 [==============================] - 243s 513ms/step - loss: 0.5193 - accuracy: 0.7417 - precision_3: 0.7320 - recall_3: 0.7626 - val_loss: 0.5703 - val_accuracy: 0.6950 - val_precision_3: 0.6138 - val_recall_3: 0.7705\n",
            "Epoch 3/25\n",
            "473/473 [==============================] - 243s 513ms/step - loss: 0.4367 - accuracy: 0.8053 - precision_3: 0.7902 - recall_3: 0.8314 - val_loss: 0.5868 - val_accuracy: 0.7180 - val_precision_3: 0.6392 - val_recall_3: 0.7799\n",
            "Epoch 4/25\n",
            "473/473 [==============================] - 243s 513ms/step - loss: 0.3445 - accuracy: 0.8545 - precision_3: 0.8474 - recall_3: 0.8647 - val_loss: 0.6146 - val_accuracy: 0.7030 - val_precision_3: 0.6280 - val_recall_3: 0.7471\n",
            "Epoch 5/25\n",
            "473/473 [==============================] - 243s 513ms/step - loss: 0.2597 - accuracy: 0.8953 - precision_3: 0.8941 - recall_3: 0.8969 - val_loss: 0.9040 - val_accuracy: 0.7110 - val_precision_3: 0.6408 - val_recall_3: 0.7354\n",
            "Epoch 6/25\n",
            "473/473 [==============================] - 243s 514ms/step - loss: 0.1508 - accuracy: 0.9428 - precision_3: 0.9401 - recall_3: 0.9458 - val_loss: 1.1559 - val_accuracy: 0.6920 - val_precision_3: 0.6028 - val_recall_3: 0.8173\n",
            "Epoch 7/25\n",
            "473/473 [==============================] - 243s 513ms/step - loss: 0.1216 - accuracy: 0.9566 - precision_3: 0.9562 - recall_3: 0.9572 - val_loss: 1.0601 - val_accuracy: 0.7200 - val_precision_3: 0.6528 - val_recall_3: 0.7354\n",
            "Epoch 8/25\n",
            "473/473 [==============================] - 243s 514ms/step - loss: 0.0876 - accuracy: 0.9691 - precision_3: 0.9708 - recall_3: 0.9672 - val_loss: 1.0336 - val_accuracy: 0.7210 - val_precision_3: 0.6418 - val_recall_3: 0.7845\n",
            "Epoch 9/25\n",
            "473/473 [==============================] - 243s 514ms/step - loss: 0.0770 - accuracy: 0.9748 - precision_3: 0.9764 - recall_3: 0.9730 - val_loss: 1.3341 - val_accuracy: 0.7100 - val_precision_3: 0.6300 - val_recall_3: 0.7775\n",
            "Epoch 10/25\n",
            "473/473 [==============================] - 243s 514ms/step - loss: 0.0532 - accuracy: 0.9819 - precision_3: 0.9841 - recall_3: 0.9796 - val_loss: 1.8576 - val_accuracy: 0.7010 - val_precision_3: 0.6265 - val_recall_3: 0.7424\n",
            "Epoch 11/25\n",
            "473/473 [==============================] - 243s 514ms/step - loss: 0.0521 - accuracy: 0.9820 - precision_3: 0.9820 - recall_3: 0.9820 - val_loss: 1.7537 - val_accuracy: 0.7070 - val_precision_3: 0.6396 - val_recall_3: 0.7190\n",
            "Epoch 12/25\n",
            "473/473 [==============================] - 243s 514ms/step - loss: 0.0466 - accuracy: 0.9848 - precision_3: 0.9849 - recall_3: 0.9847 - val_loss: 1.7032 - val_accuracy: 0.7300 - val_precision_3: 0.6619 - val_recall_3: 0.7518\n",
            "Epoch 13/25\n",
            "473/473 [==============================] - 243s 514ms/step - loss: 0.0423 - accuracy: 0.9849 - precision_3: 0.9867 - recall_3: 0.9831 - val_loss: 1.8547 - val_accuracy: 0.7070 - val_precision_3: 0.6269 - val_recall_3: 0.7752\n",
            "Epoch 14/25\n",
            "473/473 [==============================] - 243s 514ms/step - loss: 0.0363 - accuracy: 0.9881 - precision_3: 0.9904 - recall_3: 0.9857 - val_loss: 1.5398 - val_accuracy: 0.7060 - val_precision_3: 0.6371 - val_recall_3: 0.7237\n",
            "Epoch 15/25\n",
            "473/473 [==============================] - 243s 513ms/step - loss: 0.0322 - accuracy: 0.9890 - precision_3: 0.9897 - recall_3: 0.9884 - val_loss: 1.9194 - val_accuracy: 0.7290 - val_precision_3: 0.6733 - val_recall_3: 0.7096\n",
            "Epoch 16/25\n",
            "473/473 [==============================] - 243s 514ms/step - loss: 0.0368 - accuracy: 0.9873 - precision_3: 0.9883 - recall_3: 0.9863 - val_loss: 1.5582 - val_accuracy: 0.7250 - val_precision_3: 0.6490 - val_recall_3: 0.7752\n",
            "Epoch 17/25\n",
            "473/473 [==============================] - 243s 514ms/step - loss: 0.0278 - accuracy: 0.9901 - precision_3: 0.9913 - recall_3: 0.9889 - val_loss: 1.3969 - val_accuracy: 0.7260 - val_precision_3: 0.6545 - val_recall_3: 0.7588\n",
            "Epoch 18/25\n",
            "473/473 [==============================] - 243s 514ms/step - loss: 0.0296 - accuracy: 0.9902 - precision_3: 0.9910 - recall_3: 0.9894 - val_loss: 1.8408 - val_accuracy: 0.7050 - val_precision_3: 0.6174 - val_recall_3: 0.8126\n",
            "Epoch 19/25\n",
            "473/473 [==============================] - 243s 513ms/step - loss: 0.0248 - accuracy: 0.9919 - precision_3: 0.9926 - recall_3: 0.9913 - val_loss: 1.9739 - val_accuracy: 0.7420 - val_precision_3: 0.6934 - val_recall_3: 0.7096\n",
            "Epoch 20/25\n",
            "473/473 [==============================] - 243s 514ms/step - loss: 0.0318 - accuracy: 0.9900 - precision_3: 0.9923 - recall_3: 0.9876 - val_loss: 1.7648 - val_accuracy: 0.7130 - val_precision_3: 0.6357 - val_recall_3: 0.7681\n",
            "Epoch 21/25\n",
            "473/473 [==============================] - 243s 515ms/step - loss: 0.0264 - accuracy: 0.9914 - precision_3: 0.9926 - recall_3: 0.9902 - val_loss: 2.1594 - val_accuracy: 0.7280 - val_precision_3: 0.6638 - val_recall_3: 0.7354\n",
            "Epoch 22/25\n",
            "473/473 [==============================] - 243s 513ms/step - loss: 0.0274 - accuracy: 0.9919 - precision_3: 0.9936 - recall_3: 0.9902 - val_loss: 2.4237 - val_accuracy: 0.7250 - val_precision_3: 0.6439 - val_recall_3: 0.7963\n",
            "Epoch 23/25\n",
            "473/473 [==============================] - 243s 513ms/step - loss: 0.0195 - accuracy: 0.9938 - precision_3: 0.9952 - recall_3: 0.9923 - val_loss: 1.4941 - val_accuracy: 0.7200 - val_precision_3: 0.6461 - val_recall_3: 0.7611\n",
            "Epoch 24/25\n",
            "473/473 [==============================] - 243s 514ms/step - loss: 0.0236 - accuracy: 0.9933 - precision_3: 0.9944 - recall_3: 0.9921 - val_loss: 2.0027 - val_accuracy: 0.7120 - val_precision_3: 0.6243 - val_recall_3: 0.8173\n",
            "Epoch 25/25\n",
            "473/473 [==============================] - 243s 514ms/step - loss: 0.0238 - accuracy: 0.9918 - precision_3: 0.9923 - recall_3: 0.9913 - val_loss: 2.1319 - val_accuracy: 0.7280 - val_precision_3: 0.6674 - val_recall_3: 0.7237\n"
          ],
          "name": "stdout"
        }
      ]
    },
    {
      "cell_type": "code",
      "metadata": {
        "colab": {
          "base_uri": "https://localhost:8080/"
        },
        "id": "FvLsulRdUpuG",
        "outputId": "dc3333ce-c068-4450-969d-6494ad63b051"
      },
      "source": [
        "preds_xl_hate = XLNet_hate.predict(xl_hate_test_input, verbose=True)"
      ],
      "execution_count": 24,
      "outputs": [
        {
          "output_type": "stream",
          "text": [
            "WARNING:tensorflow:The parameters `output_attentions`, `output_hidden_states` and `use_cache` cannot be updated when calling a model.They have to be set to True/False in the config object (i.e.: `config=XConfig.from_pretrained('name', output_attentions=True)`).\n",
            "WARNING:tensorflow:The parameter `return_dict` cannot be set in graph mode and will always be set to `True`.\n",
            "93/93 [==============================] - 32s 324ms/step\n"
          ],
          "name": "stdout"
        }
      ]
    },
    {
      "cell_type": "code",
      "metadata": {
        "colab": {
          "base_uri": "https://localhost:8080/",
          "height": 467
        },
        "id": "ZDaUwPk_UVWt",
        "outputId": "2bc9de49-3771-454c-e219-fe9ebde8c428"
      },
      "source": [
        "hate_pred_xl_label = [i[0] for i in preds_xl_hate.round().astype(int)]\n",
        "cm = confusion_matrix(hate_dict_test.label,hate_pred_xl_label)\n",
        "plot_confusion_matrix(cm, normalize=False,target_names=['Not_hate', 'Hate'],title=\"XLNet Confusion Matrix for Hate\")"
      ],
      "execution_count": 25,
      "outputs": [
        {
          "output_type": "display_data",
          "data": {
            "image/png": "[encoded data removed]",
            "text/plain": [
              "<Figure size 576x432 with 2 Axes>"
            ]
          },
          "metadata": {
            "tags": [],
            "needs_background": "light"
          }
        }
      ]
    },
    {
      "cell_type": "code",
      "metadata": {
        "id": "c1t3aKYX14Nb",
        "colab": {
          "base_uri": "https://localhost:8080/"
        },
        "outputId": "4654fbba-8e87-4240-9713-9fa251b64fef"
      },
      "source": [
        "f1_xl_hate = f1_score(hate_dict_test.label,hate_pred_xl_label,average='macro')\n",
        "print(\"F1_score of Hate dataset with XLnet is: %.1f%%\" % round(f1_xl_hate*100,1))"
      ],
      "execution_count": 26,
      "outputs": [
        {
          "output_type": "stream",
          "text": [
            "F1_score of Hate dataset with XLnet is: 59.7%\n"
          ],
          "name": "stdout"
        }
      ]
    },
    {
      "cell_type": "markdown",
      "metadata": {
        "id": "PuJ9i_or8FfM"
      },
      "source": [
        "XLnet for Irony Dataset"
      ]
    },
    {
      "cell_type": "code",
      "metadata": {
        "colab": {
          "base_uri": "https://localhost:8080/"
        },
        "id": "ari-sMwRU9pM",
        "outputId": "f5c61459-875e-4f1e-829a-fb79ccb776bc"
      },
      "source": [
        "XLNet_irony = create_model(xlnet_model)"
      ],
      "execution_count": 27,
      "outputs": [
        {
          "output_type": "stream",
          "text": [
            "WARNING:tensorflow:The parameters `output_attentions`, `output_hidden_states` and `use_cache` cannot be updated when calling a model.They have to be set to True/False in the config object (i.e.: `config=XConfig.from_pretrained('name', output_attentions=True)`).\n",
            "WARNING:tensorflow:The parameter `return_dict` cannot be set in graph mode and will always be set to `True`.\n"
          ],
          "name": "stdout"
        },
        {
          "output_type": "stream",
          "text": [
            "/usr/local/lib/python3.7/dist-packages/tensorflow/python/keras/optimizer_v2/optimizer_v2.py:375: UserWarning: The `lr` argument is deprecated, use `learning_rate` instead.\n",
            "  \"The `lr` argument is deprecated, use `learning_rate` instead.\")\n"
          ],
          "name": "stderr"
        }
      ]
    },
    {
      "cell_type": "code",
      "metadata": {
        "colab": {
          "base_uri": "https://localhost:8080/"
        },
        "id": "NX62uykYVBOm",
        "outputId": "2d564810-eba4-4ef0-907e-4ecd6a5c0514"
      },
      "source": [
        "hist_xl_irony = XLNet_irony.fit(x=xl_irony_train_input, y=irony_dict_train.label, epochs=25, batch_size=16, validation_data=(xl_irony_val_input, irony_dict_val.label), callbacks=callbacks)"
      ],
      "execution_count": 34,
      "outputs": [
        {
          "output_type": "stream",
          "text": [
            "Epoch 1/25\n",
            "178/178 [==============================] - 96s 542ms/step - loss: 0.0728 - accuracy: 0.9795 - precision_4: 0.9809 - recall_4: 0.9781 - val_loss: 2.3051 - val_accuracy: 0.6398 - val_precision_4: 0.6315 - val_recall_4: 0.5899\n",
            "Epoch 2/25\n",
            "178/178 [==============================] - 96s 542ms/step - loss: 0.0499 - accuracy: 0.9880 - precision_4: 0.9908 - recall_4: 0.9852 - val_loss: 2.0957 - val_accuracy: 0.6555 - val_precision_4: 0.6267 - val_recall_4: 0.6886\n",
            "Epoch 3/25\n",
            "178/178 [==============================] - 96s 541ms/step - loss: 0.0330 - accuracy: 0.9894 - precision_4: 0.9922 - recall_4: 0.9866 - val_loss: 2.2799 - val_accuracy: 0.6513 - val_precision_4: 0.6108 - val_recall_4: 0.7434\n",
            "Epoch 4/25\n",
            "178/178 [==============================] - 96s 540ms/step - loss: 0.0347 - accuracy: 0.9894 - precision_4: 0.9922 - recall_4: 0.9866 - val_loss: 3.0141 - val_accuracy: 0.6325 - val_precision_4: 0.5910 - val_recall_4: 0.7478\n",
            "Epoch 5/25\n",
            "178/178 [==============================] - 96s 541ms/step - loss: 0.0200 - accuracy: 0.9929 - precision_4: 0.9936 - recall_4: 0.9922 - val_loss: 2.6575 - val_accuracy: 0.6545 - val_precision_4: 0.6202 - val_recall_4: 0.7127\n",
            "Epoch 6/25\n",
            "178/178 [==============================] - 96s 541ms/step - loss: 0.0225 - accuracy: 0.9922 - precision_4: 0.9936 - recall_4: 0.9908 - val_loss: 2.0773 - val_accuracy: 0.6293 - val_precision_4: 0.5836 - val_recall_4: 0.7807\n",
            "Epoch 7/25\n",
            "178/178 [==============================] - 96s 542ms/step - loss: 0.0179 - accuracy: 0.9929 - precision_4: 0.9950 - recall_4: 0.9908 - val_loss: 2.9032 - val_accuracy: 0.6545 - val_precision_4: 0.6202 - val_recall_4: 0.7127\n",
            "Epoch 8/25\n",
            "178/178 [==============================] - 96s 541ms/step - loss: 0.0074 - accuracy: 0.9979 - precision_4: 0.9993 - recall_4: 0.9965 - val_loss: 4.4649 - val_accuracy: 0.6419 - val_precision_4: 0.6014 - val_recall_4: 0.7412\n",
            "Epoch 9/25\n",
            "178/178 [==============================] - 96s 541ms/step - loss: 0.0167 - accuracy: 0.9947 - precision_4: 0.9979 - recall_4: 0.9915 - val_loss: 2.8006 - val_accuracy: 0.6482 - val_precision_4: 0.6128 - val_recall_4: 0.7149\n",
            "Epoch 10/25\n",
            "178/178 [==============================] - 97s 543ms/step - loss: 0.0253 - accuracy: 0.9905 - precision_4: 0.9929 - recall_4: 0.9880 - val_loss: 3.1418 - val_accuracy: 0.6471 - val_precision_4: 0.6121 - val_recall_4: 0.7127\n",
            "Epoch 11/25\n",
            "178/178 [==============================] - 96s 542ms/step - loss: 0.0119 - accuracy: 0.9954 - precision_4: 0.9972 - recall_4: 0.9936 - val_loss: 3.6002 - val_accuracy: 0.6398 - val_precision_4: 0.6011 - val_recall_4: 0.7303\n",
            "Epoch 12/25\n",
            "178/178 [==============================] - 96s 542ms/step - loss: 0.0200 - accuracy: 0.9947 - precision_4: 0.9958 - recall_4: 0.9936 - val_loss: 4.0379 - val_accuracy: 0.6576 - val_precision_4: 0.6252 - val_recall_4: 0.7061\n"
          ],
          "name": "stdout"
        }
      ]
    },
    {
      "cell_type": "code",
      "metadata": {
        "colab": {
          "base_uri": "https://localhost:8080/"
        },
        "id": "HZ5yCM_8VFrn",
        "outputId": "48e2b92a-fee7-44b8-fc79-68591ba5f6f4"
      },
      "source": [
        "preds_xl_irony = XLNet_irony.predict(xl_irony_test_input, verbose=True)"
      ],
      "execution_count": 29,
      "outputs": [
        {
          "output_type": "stream",
          "text": [
            "WARNING:tensorflow:The parameters `output_attentions`, `output_hidden_states` and `use_cache` cannot be updated when calling a model.They have to be set to True/False in the config object (i.e.: `config=XConfig.from_pretrained('name', output_attentions=True)`).\n",
            "WARNING:tensorflow:The parameter `return_dict` cannot be set in graph mode and will always be set to `True`.\n",
            "25/25 [==============================] - 10s 310ms/step\n"
          ],
          "name": "stdout"
        }
      ]
    },
    {
      "cell_type": "code",
      "metadata": {
        "colab": {
          "base_uri": "https://localhost:8080/",
          "height": 467
        },
        "id": "j08QJgf3VIh_",
        "outputId": "a9f2d701-5ca6-437e-defa-3f3756f3ba1a"
      },
      "source": [
        "irony_pred_xl_label = [i[0] for i in preds_xl_irony.round().astype(int)]\n",
        "cm = confusion_matrix(irony_dict_test.label,irony_pred_xl_label)\n",
        "plot_confusion_matrix(cm, normalize=False,target_names=['Not_irony', 'Irony'],title=\"XLNet Confusion Matrix for Irony\")"
      ],
      "execution_count": 30,
      "outputs": [
        {
          "output_type": "display_data",
          "data": {
            "image/png": "[encoded data removed]",
            "text/plain": [
              "<Figure size 576x432 with 2 Axes>"
            ]
          },
          "metadata": {
            "tags": [],
            "needs_background": "light"
          }
        }
      ]
    },
    {
      "cell_type": "code",
      "metadata": {
        "id": "EQVmcs2y2PPx",
        "colab": {
          "base_uri": "https://localhost:8080/"
        },
        "outputId": "50706b3c-4d9b-4fc6-bd3b-bce6c66bb456"
      },
      "source": [
        "f1_xl_irony = f1_score(irony_dict_test.label,irony_pred_xl_label,average='macro')\n",
        "print(\"F1_score of irony dataset with DistilBert is: %.1f%%\" % round(f1_xl_irony * 100,1))"
      ],
      "execution_count": 31,
      "outputs": [
        {
          "output_type": "stream",
          "text": [
            "F1_score of irony dataset with DistilBert is: 57.2%\n"
          ],
          "name": "stdout"
        }
      ]
    },
    {
      "cell_type": "markdown",
      "metadata": {
        "id": "KC9SehaH8K4x"
      },
      "source": [
        "5.3 XLnet for Offensive Dataset"
      ]
    },
    {
      "cell_type": "code",
      "metadata": {
        "colab": {
          "base_uri": "https://localhost:8080/"
        },
        "id": "CxFjQUmYVaqt",
        "outputId": "180ab8ff-678a-4981-db14-50caa4d0aa88"
      },
      "source": [
        "XLNet_offensive = create_model(xlnet_model)"
      ],
      "execution_count": 32,
      "outputs": [
        {
          "output_type": "stream",
          "text": [
            "WARNING:tensorflow:The parameters `output_attentions`, `output_hidden_states` and `use_cache` cannot be updated when calling a model.They have to be set to True/False in the config object (i.e.: `config=XConfig.from_pretrained('name', output_attentions=True)`).\n",
            "WARNING:tensorflow:The parameter `return_dict` cannot be set in graph mode and will always be set to `True`.\n"
          ],
          "name": "stdout"
        },
        {
          "output_type": "stream",
          "text": [
            "/usr/local/lib/python3.7/dist-packages/tensorflow/python/keras/optimizer_v2/optimizer_v2.py:375: UserWarning: The `lr` argument is deprecated, use `learning_rate` instead.\n",
            "  \"The `lr` argument is deprecated, use `learning_rate` instead.\")\n"
          ],
          "name": "stderr"
        }
      ]
    },
    {
      "cell_type": "code",
      "metadata": {
        "colab": {
          "base_uri": "https://localhost:8080/",
          "height": 1000
        },
        "id": "ThdUia-5VamC",
        "outputId": "a4fe5686-61fc-4698-c48c-4aa8df4ddb6c"
      },
      "source": [
        "hist_xl_offensive = XLNet_offensive.fit(x=xl_offensive_train_input, y=offensive_dict_train.label, epochs=25, batch_size=16, validation_data=(xl_offensive_val_input, offensive_dict_val.label), callbacks=callbacks)"
      ],
      "execution_count": 35,
      "outputs": [
        {
          "output_type": "stream",
          "text": [
            "Epoch 1/25\n",
            "493/493 [==============================] - ETA: 0s - loss: 0.4861 - accuracy: 0.7706 - precision_5: 0.7627 - recall_5: 0.7856WARNING:tensorflow:The parameters `output_attentions`, `output_hidden_states` and `use_cache` cannot be updated when calling a model.They have to be set to True/False in the config object (i.e.: `config=XConfig.from_pretrained('name', output_attentions=True)`).\n",
            "WARNING:tensorflow:The parameter `return_dict` cannot be set in graph mode and will always be set to `True`.\n",
            "493/493 [==============================] - 258s 524ms/step - loss: 0.4861 - accuracy: 0.7706 - precision_5: 0.7627 - recall_5: 0.7856 - val_loss: 0.5324 - val_accuracy: 0.7583 - val_precision_5: 0.6168 - val_recall_5: 0.7996\n",
            "Epoch 2/25\n",
            "493/493 [==============================] - 256s 520ms/step - loss: 0.3567 - accuracy: 0.8474 - precision_5: 0.8429 - recall_5: 0.8538 - val_loss: 0.5004 - val_accuracy: 0.7825 - val_precision_5: 0.6734 - val_recall_5: 0.7233\n",
            "Epoch 3/25\n",
            "493/493 [==============================] - 256s 519ms/step - loss: 0.2514 - accuracy: 0.9045 - precision_5: 0.9009 - recall_5: 0.9089 - val_loss: 0.6389 - val_accuracy: 0.7485 - val_precision_5: 0.6079 - val_recall_5: 0.7734\n",
            "Epoch 4/25\n",
            "493/493 [==============================] - 256s 520ms/step - loss: 0.1610 - accuracy: 0.9416 - precision_5: 0.9396 - recall_5: 0.9439 - val_loss: 0.9623 - val_accuracy: 0.7462 - val_precision_5: 0.6062 - val_recall_5: 0.7647\n",
            "Epoch 5/25\n",
            "493/493 [==============================] - 256s 519ms/step - loss: 0.0852 - accuracy: 0.9709 - precision_5: 0.9718 - recall_5: 0.9701 - val_loss: 1.0975 - val_accuracy: 0.7402 - val_precision_5: 0.5983 - val_recall_5: 0.7625\n",
            "Epoch 6/25\n",
            "493/493 [==============================] - 256s 519ms/step - loss: 0.0805 - accuracy: 0.9745 - precision_5: 0.9739 - recall_5: 0.9751 - val_loss: 0.8871 - val_accuracy: 0.7432 - val_precision_5: 0.6104 - val_recall_5: 0.7168\n",
            "Epoch 7/25\n",
            "493/493 [==============================] - 256s 519ms/step - loss: 0.0613 - accuracy: 0.9802 - precision_5: 0.9824 - recall_5: 0.9779 - val_loss: 1.2249 - val_accuracy: 0.7311 - val_precision_5: 0.5803 - val_recall_5: 0.8105\n",
            "Epoch 8/25\n",
            "493/493 [==============================] - 256s 520ms/step - loss: 0.0480 - accuracy: 0.9840 - precision_5: 0.9835 - recall_5: 0.9845 - val_loss: 1.4249 - val_accuracy: 0.7628 - val_precision_5: 0.6430 - val_recall_5: 0.7102\n",
            "Epoch 9/25\n",
            "493/493 [==============================] - 256s 519ms/step - loss: 0.0487 - accuracy: 0.9843 - precision_5: 0.9850 - recall_5: 0.9835 - val_loss: 1.7192 - val_accuracy: 0.7462 - val_precision_5: 0.6066 - val_recall_5: 0.7625\n",
            "Epoch 10/25\n",
            "493/493 [==============================] - 256s 519ms/step - loss: 0.0392 - accuracy: 0.9882 - precision_5: 0.9866 - recall_5: 0.9899 - val_loss: 1.2862 - val_accuracy: 0.7719 - val_precision_5: 0.6579 - val_recall_5: 0.7124\n",
            "Epoch 11/25\n",
            "493/493 [==============================] - 256s 519ms/step - loss: 0.0314 - accuracy: 0.9888 - precision_5: 0.9881 - recall_5: 0.9896 - val_loss: 1.6468 - val_accuracy: 0.7356 - val_precision_5: 0.5892 - val_recall_5: 0.7843\n",
            "Epoch 12/25\n",
            "493/493 [==============================] - 256s 520ms/step - loss: 0.0352 - accuracy: 0.9892 - precision_5: 0.9898 - recall_5: 0.9886 - val_loss: 1.7116 - val_accuracy: 0.7470 - val_precision_5: 0.6062 - val_recall_5: 0.7712\n",
            "Epoch 13/25\n",
            "493/493 [==============================] - 256s 520ms/step - loss: 0.0332 - accuracy: 0.9899 - precision_5: 0.9906 - recall_5: 0.9891 - val_loss: 1.3667 - val_accuracy: 0.7523 - val_precision_5: 0.6143 - val_recall_5: 0.7669\n",
            "Epoch 14/25\n",
            "493/493 [==============================] - 256s 519ms/step - loss: 0.0314 - accuracy: 0.9901 - precision_5: 0.9911 - recall_5: 0.9891 - val_loss: 1.6453 - val_accuracy: 0.7553 - val_precision_5: 0.6276 - val_recall_5: 0.7233\n",
            "Epoch 15/25\n",
            "493/493 [==============================] - 256s 520ms/step - loss: 0.0271 - accuracy: 0.9915 - precision_5: 0.9919 - recall_5: 0.9911 - val_loss: 1.4064 - val_accuracy: 0.7462 - val_precision_5: 0.6145 - val_recall_5: 0.7190\n",
            "Epoch 16/25\n",
            "493/493 [==============================] - 256s 519ms/step - loss: 0.0301 - accuracy: 0.9896 - precision_5: 0.9884 - recall_5: 0.9909 - val_loss: 1.4712 - val_accuracy: 0.7462 - val_precision_5: 0.6055 - val_recall_5: 0.7691\n",
            "Epoch 17/25\n",
            "493/493 [==============================] - 256s 520ms/step - loss: 0.0281 - accuracy: 0.9905 - precision_5: 0.9909 - recall_5: 0.9901 - val_loss: 1.5218 - val_accuracy: 0.6692 - val_precision_5: 0.5139 - val_recall_5: 0.8431\n",
            "Epoch 18/25\n",
            "139/493 [=======>......................] - ETA: 2:54 - loss: 0.0256 - accuracy: 0.9928 - precision_5: 0.9909 - recall_5: 0.9945"
          ],
          "name": "stdout"
        },
        {
          "output_type": "error",
          "ename": "KeyboardInterrupt",
          "evalue": "ignored",
          "traceback": [
            "\u001b[0;31m---------------------------------------------------------------------------\u001b[0m",
            "\u001b[0;31mKeyboardInterrupt\u001b[0m                         Traceback (most recent call last)",
            "\u001b[0;32m<ipython-input-35-189b3abd0958>\u001b[0m in \u001b[0;36m<module>\u001b[0;34m()\u001b[0m\n\u001b[0;32m----> 1\u001b[0;31m \u001b[0mhist_xl_offensive\u001b[0m \u001b[0;34m=\u001b[0m \u001b[0mXLNet_offensive\u001b[0m\u001b[0;34m.\u001b[0m\u001b[0mfit\u001b[0m\u001b[0;34m(\u001b[0m\u001b[0mx\u001b[0m\u001b[0;34m=\u001b[0m\u001b[0mxl_offensive_train_input\u001b[0m\u001b[0;34m,\u001b[0m \u001b[0my\u001b[0m\u001b[0;34m=\u001b[0m\u001b[0moffensive_dict_train\u001b[0m\u001b[0;34m.\u001b[0m\u001b[0mlabel\u001b[0m\u001b[0;34m,\u001b[0m \u001b[0mepochs\u001b[0m\u001b[0;34m=\u001b[0m\u001b[0;36m25\u001b[0m\u001b[0;34m,\u001b[0m \u001b[0mbatch_size\u001b[0m\u001b[0;34m=\u001b[0m\u001b[0;36m16\u001b[0m\u001b[0;34m,\u001b[0m \u001b[0mvalidation_data\u001b[0m\u001b[0;34m=\u001b[0m\u001b[0;34m(\u001b[0m\u001b[0mxl_offensive_val_input\u001b[0m\u001b[0;34m,\u001b[0m \u001b[0moffensive_dict_val\u001b[0m\u001b[0;34m.\u001b[0m\u001b[0mlabel\u001b[0m\u001b[0;34m)\u001b[0m\u001b[0;34m,\u001b[0m \u001b[0mcallbacks\u001b[0m\u001b[0;34m=\u001b[0m\u001b[0mcallbacks\u001b[0m\u001b[0;34m)\u001b[0m\u001b[0;34m\u001b[0m\u001b[0;34m\u001b[0m\u001b[0m\n\u001b[0m",
            "\u001b[0;32m/usr/local/lib/python3.7/dist-packages/tensorflow/python/keras/engine/training.py\u001b[0m in \u001b[0;36mfit\u001b[0;34m(self, x, y, batch_size, epochs, verbose, callbacks, validation_split, validation_data, shuffle, class_weight, sample_weight, initial_epoch, steps_per_epoch, validation_steps, validation_batch_size, validation_freq, max_queue_size, workers, use_multiprocessing)\u001b[0m\n\u001b[1;32m   1181\u001b[0m                 _r=1):\n\u001b[1;32m   1182\u001b[0m               \u001b[0mcallbacks\u001b[0m\u001b[0;34m.\u001b[0m\u001b[0mon_train_batch_begin\u001b[0m\u001b[0;34m(\u001b[0m\u001b[0mstep\u001b[0m\u001b[0;34m)\u001b[0m\u001b[0;34m\u001b[0m\u001b[0;34m\u001b[0m\u001b[0m\n\u001b[0;32m-> 1183\u001b[0;31m               \u001b[0mtmp_logs\u001b[0m \u001b[0;34m=\u001b[0m \u001b[0mself\u001b[0m\u001b[0;34m.\u001b[0m\u001b[0mtrain_function\u001b[0m\u001b[0;34m(\u001b[0m\u001b[0miterator\u001b[0m\u001b[0;34m)\u001b[0m\u001b[0;34m\u001b[0m\u001b[0;34m\u001b[0m\u001b[0m\n\u001b[0m\u001b[1;32m   1184\u001b[0m               \u001b[0;32mif\u001b[0m \u001b[0mdata_handler\u001b[0m\u001b[0;34m.\u001b[0m\u001b[0mshould_sync\u001b[0m\u001b[0;34m:\u001b[0m\u001b[0;34m\u001b[0m\u001b[0;34m\u001b[0m\u001b[0m\n\u001b[1;32m   1185\u001b[0m                 \u001b[0mcontext\u001b[0m\u001b[0;34m.\u001b[0m\u001b[0masync_wait\u001b[0m\u001b[0;34m(\u001b[0m\u001b[0;34m)\u001b[0m\u001b[0;34m\u001b[0m\u001b[0;34m\u001b[0m\u001b[0m\n",
            "\u001b[0;32m/usr/local/lib/python3.7/dist-packages/tensorflow/python/eager/def_function.py\u001b[0m in \u001b[0;36m__call__\u001b[0;34m(self, *args, **kwds)\u001b[0m\n\u001b[1;32m    887\u001b[0m \u001b[0;34m\u001b[0m\u001b[0m\n\u001b[1;32m    888\u001b[0m       \u001b[0;32mwith\u001b[0m \u001b[0mOptionalXlaContext\u001b[0m\u001b[0;34m(\u001b[0m\u001b[0mself\u001b[0m\u001b[0;34m.\u001b[0m\u001b[0m_jit_compile\u001b[0m\u001b[0;34m)\u001b[0m\u001b[0;34m:\u001b[0m\u001b[0;34m\u001b[0m\u001b[0;34m\u001b[0m\u001b[0m\n\u001b[0;32m--> 889\u001b[0;31m         \u001b[0mresult\u001b[0m \u001b[0;34m=\u001b[0m \u001b[0mself\u001b[0m\u001b[0;34m.\u001b[0m\u001b[0m_call\u001b[0m\u001b[0;34m(\u001b[0m\u001b[0;34m*\u001b[0m\u001b[0margs\u001b[0m\u001b[0;34m,\u001b[0m \u001b[0;34m**\u001b[0m\u001b[0mkwds\u001b[0m\u001b[0;34m)\u001b[0m\u001b[0;34m\u001b[0m\u001b[0;34m\u001b[0m\u001b[0m\n\u001b[0m\u001b[1;32m    890\u001b[0m \u001b[0;34m\u001b[0m\u001b[0m\n\u001b[1;32m    891\u001b[0m       \u001b[0mnew_tracing_count\u001b[0m \u001b[0;34m=\u001b[0m \u001b[0mself\u001b[0m\u001b[0;34m.\u001b[0m\u001b[0mexperimental_get_tracing_count\u001b[0m\u001b[0;34m(\u001b[0m\u001b[0;34m)\u001b[0m\u001b[0;34m\u001b[0m\u001b[0;34m\u001b[0m\u001b[0m\n",
            "\u001b[0;32m/usr/local/lib/python3.7/dist-packages/tensorflow/python/eager/def_function.py\u001b[0m in \u001b[0;36m_call\u001b[0;34m(self, *args, **kwds)\u001b[0m\n\u001b[1;32m    915\u001b[0m       \u001b[0;31m# In this case we have created variables on the first call, so we run the\u001b[0m\u001b[0;34m\u001b[0m\u001b[0;34m\u001b[0m\u001b[0;34m\u001b[0m\u001b[0m\n\u001b[1;32m    916\u001b[0m       \u001b[0;31m# defunned version which is guaranteed to never create variables.\u001b[0m\u001b[0;34m\u001b[0m\u001b[0;34m\u001b[0m\u001b[0;34m\u001b[0m\u001b[0m\n\u001b[0;32m--> 917\u001b[0;31m       \u001b[0;32mreturn\u001b[0m \u001b[0mself\u001b[0m\u001b[0;34m.\u001b[0m\u001b[0m_stateless_fn\u001b[0m\u001b[0;34m(\u001b[0m\u001b[0;34m*\u001b[0m\u001b[0margs\u001b[0m\u001b[0;34m,\u001b[0m \u001b[0;34m**\u001b[0m\u001b[0mkwds\u001b[0m\u001b[0;34m)\u001b[0m  \u001b[0;31m# pylint: disable=not-callable\u001b[0m\u001b[0;34m\u001b[0m\u001b[0;34m\u001b[0m\u001b[0m\n\u001b[0m\u001b[1;32m    918\u001b[0m     \u001b[0;32melif\u001b[0m \u001b[0mself\u001b[0m\u001b[0;34m.\u001b[0m\u001b[0m_stateful_fn\u001b[0m \u001b[0;32mis\u001b[0m \u001b[0;32mnot\u001b[0m \u001b[0;32mNone\u001b[0m\u001b[0;34m:\u001b[0m\u001b[0;34m\u001b[0m\u001b[0;34m\u001b[0m\u001b[0m\n\u001b[1;32m    919\u001b[0m       \u001b[0;31m# Release the lock early so that multiple threads can perform the call\u001b[0m\u001b[0;34m\u001b[0m\u001b[0;34m\u001b[0m\u001b[0;34m\u001b[0m\u001b[0m\n",
            "\u001b[0;32m/usr/local/lib/python3.7/dist-packages/tensorflow/python/eager/function.py\u001b[0m in \u001b[0;36m__call__\u001b[0;34m(self, *args, **kwargs)\u001b[0m\n\u001b[1;32m   3022\u001b[0m        filtered_flat_args) = self._maybe_define_function(args, kwargs)\n\u001b[1;32m   3023\u001b[0m     return graph_function._call_flat(\n\u001b[0;32m-> 3024\u001b[0;31m         filtered_flat_args, captured_inputs=graph_function.captured_inputs)  # pylint: disable=protected-access\n\u001b[0m\u001b[1;32m   3025\u001b[0m \u001b[0;34m\u001b[0m\u001b[0m\n\u001b[1;32m   3026\u001b[0m   \u001b[0;34m@\u001b[0m\u001b[0mproperty\u001b[0m\u001b[0;34m\u001b[0m\u001b[0;34m\u001b[0m\u001b[0m\n",
            "\u001b[0;32m/usr/local/lib/python3.7/dist-packages/tensorflow/python/eager/function.py\u001b[0m in \u001b[0;36m_call_flat\u001b[0;34m(self, args, captured_inputs, cancellation_manager)\u001b[0m\n\u001b[1;32m   1959\u001b[0m       \u001b[0;31m# No tape is watching; skip to running the function.\u001b[0m\u001b[0;34m\u001b[0m\u001b[0;34m\u001b[0m\u001b[0;34m\u001b[0m\u001b[0m\n\u001b[1;32m   1960\u001b[0m       return self._build_call_outputs(self._inference_function.call(\n\u001b[0;32m-> 1961\u001b[0;31m           ctx, args, cancellation_manager=cancellation_manager))\n\u001b[0m\u001b[1;32m   1962\u001b[0m     forward_backward = self._select_forward_and_backward_functions(\n\u001b[1;32m   1963\u001b[0m         \u001b[0margs\u001b[0m\u001b[0;34m,\u001b[0m\u001b[0;34m\u001b[0m\u001b[0;34m\u001b[0m\u001b[0m\n",
            "\u001b[0;32m/usr/local/lib/python3.7/dist-packages/tensorflow/python/eager/function.py\u001b[0m in \u001b[0;36mcall\u001b[0;34m(self, ctx, args, cancellation_manager)\u001b[0m\n\u001b[1;32m    594\u001b[0m               \u001b[0minputs\u001b[0m\u001b[0;34m=\u001b[0m\u001b[0margs\u001b[0m\u001b[0;34m,\u001b[0m\u001b[0;34m\u001b[0m\u001b[0;34m\u001b[0m\u001b[0m\n\u001b[1;32m    595\u001b[0m               \u001b[0mattrs\u001b[0m\u001b[0;34m=\u001b[0m\u001b[0mattrs\u001b[0m\u001b[0;34m,\u001b[0m\u001b[0;34m\u001b[0m\u001b[0;34m\u001b[0m\u001b[0m\n\u001b[0;32m--> 596\u001b[0;31m               ctx=ctx)\n\u001b[0m\u001b[1;32m    597\u001b[0m         \u001b[0;32melse\u001b[0m\u001b[0;34m:\u001b[0m\u001b[0;34m\u001b[0m\u001b[0;34m\u001b[0m\u001b[0m\n\u001b[1;32m    598\u001b[0m           outputs = execute.execute_with_cancellation(\n",
            "\u001b[0;32m/usr/local/lib/python3.7/dist-packages/tensorflow/python/eager/execute.py\u001b[0m in \u001b[0;36mquick_execute\u001b[0;34m(op_name, num_outputs, inputs, attrs, ctx, name)\u001b[0m\n\u001b[1;32m     58\u001b[0m     \u001b[0mctx\u001b[0m\u001b[0;34m.\u001b[0m\u001b[0mensure_initialized\u001b[0m\u001b[0;34m(\u001b[0m\u001b[0;34m)\u001b[0m\u001b[0;34m\u001b[0m\u001b[0;34m\u001b[0m\u001b[0m\n\u001b[1;32m     59\u001b[0m     tensors = pywrap_tfe.TFE_Py_Execute(ctx._handle, device_name, op_name,\n\u001b[0;32m---> 60\u001b[0;31m                                         inputs, attrs, num_outputs)\n\u001b[0m\u001b[1;32m     61\u001b[0m   \u001b[0;32mexcept\u001b[0m \u001b[0mcore\u001b[0m\u001b[0;34m.\u001b[0m\u001b[0m_NotOkStatusException\u001b[0m \u001b[0;32mas\u001b[0m \u001b[0me\u001b[0m\u001b[0;34m:\u001b[0m\u001b[0;34m\u001b[0m\u001b[0;34m\u001b[0m\u001b[0m\n\u001b[1;32m     62\u001b[0m     \u001b[0;32mif\u001b[0m \u001b[0mname\u001b[0m \u001b[0;32mis\u001b[0m \u001b[0;32mnot\u001b[0m \u001b[0;32mNone\u001b[0m\u001b[0;34m:\u001b[0m\u001b[0;34m\u001b[0m\u001b[0;34m\u001b[0m\u001b[0m\n",
            "\u001b[0;31mKeyboardInterrupt\u001b[0m: "
          ]
        }
      ]
    },
    {
      "cell_type": "code",
      "metadata": {
        "id": "chZqFuDKVhxC"
      },
      "source": [
        "preds_xl_offensive = XLNet_offensive.predict(xl_offensive_test_input, verbose=True)"
      ],
      "execution_count": null,
      "outputs": []
    },
    {
      "cell_type": "code",
      "metadata": {
        "id": "dA_awMECVtVk"
      },
      "source": [
        "offensive_pred_xl_label = [i[0] for i in preds_xl_offensive.round().astype(int)]\n",
        "cm = confusion_matrix(offensive_dict_test.label,offensive_pred_xl_label)\n",
        "plot_confusion_matrix(cm, normalize=False,target_names=['Not_offensive', 'Offensive'],title=\"XLNet Confusion Matrix for Offensive\")"
      ],
      "execution_count": null,
      "outputs": []
    },
    {
      "cell_type": "code",
      "metadata": {
        "id": "8OzfSO1f2ir1"
      },
      "source": [
        "f1_xl_offensive = f1_score(offensive_dict_test.label,offensive_pred_xl_label,average='macro')\n",
        "print(\"F1_score of offensive dataset with XLNet is: %.1f%%\" % round(f1_xl_offensive * 100,1))"
      ],
      "execution_count": null,
      "outputs": []
    },
    {
      "cell_type": "markdown",
      "metadata": {
        "id": "LUG2Bn4Eykm_"
      },
      "source": [
        "#6. Graphs for comparing the result"
      ]
    },
    {
      "cell_type": "markdown",
      "metadata": {
        "id": "7NVaySq68nse"
      },
      "source": [
        "6.1 Comparasion For Macro F1 score "
      ]
    },
    {
      "cell_type": "code",
      "metadata": {
        "id": "EIOkwZ1Il15o"
      },
      "source": [
        "f1_score_bar(f1_dl_hate,f1_dl_irony,f1_dl_offensive,f1_xl_hate,f1_xl_irony,f1_xl_offensive)    "
      ],
      "execution_count": null,
      "outputs": []
    },
    {
      "cell_type": "markdown",
      "metadata": {
        "id": "_ADl1cyK8s7B"
      },
      "source": [
        "6.2 AUC Performance"
      ]
    },
    {
      "cell_type": "code",
      "metadata": {
        "id": "E8syuZOtpKVM"
      },
      "source": [
        "auc_plot_metrics(preds_dl_hate, preds_xl_hate, hate_dict_test.label,\n",
        "         preds_dl_irony, preds_xl_irony, irony_dict_test.label,\n",
        "         preds_dl_offensive, preds_xl_offensive, offensive_dict_test.label)"
      ],
      "execution_count": null,
      "outputs": []
    }
  ]
}